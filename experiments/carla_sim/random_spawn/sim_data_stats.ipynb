{
 "cells": [
  {
   "cell_type": "code",
   "execution_count": 10,
   "metadata": {},
   "outputs": [],
   "source": [
    "%matplotlib inline\n",
    "import matplotlib.pyplot as plt\n",
    "import numpy as np\n",
    "import pandas as pd\n",
    "import os\n",
    "import seaborn as sns\n",
    "sns.set()"
   ]
  },
  {
   "cell_type": "code",
   "execution_count": 4,
   "metadata": {},
   "outputs": [],
   "source": [
    "data_fold = '../../../data/carla_sim/random_spawn/'"
   ]
  },
  {
   "cell_type": "code",
   "execution_count": 17,
   "metadata": {},
   "outputs": [
    {
     "name": "stderr",
     "output_type": "stream",
     "text": [
      "/tmp/ipykernel_32496/2893781078.py:7: FutureWarning: The behavior of DataFrame concatenation with empty or all-NA entries is deprecated. In a future version, this will no longer exclude empty or all-NA columns when determining the result dtypes. To retain the old behavior, exclude the relevant entries before the concat operation.\n",
      "  df = pd.concat(\n"
     ]
    }
   ],
   "source": [
    "samples = os.listdir(data_fold)\n",
    "\n",
    "df = pd.DataFrame(columns=[\"coll_type\", \"coll_time\", \"t_end\", \"vel\", \"diameter\"])\n",
    "\n",
    "for sample in samples:\n",
    "    smd = np.load(data_fold + sample + \"/sim_data.npz\", allow_pickle=True)\n",
    "    df = pd.concat(\n",
    "        [\n",
    "            df,\n",
    "            pd.DataFrame(\n",
    "                {\n",
    "                    \"coll_type\": [smd[\"coll_type\"][()]],\n",
    "                    \"coll_time\": [smd[\"collision_time\"][()]],\n",
    "                    \"t_end\": [smd[\"t_end\"][()]],\n",
    "                    \"vel\": [smd[\"vel\"][()]],\n",
    "                    \"diameter\": [smd[\"diameter_object\"][()]],\n",
    "                }\n",
    "            ),\n",
    "        ], ignore_index=True\n",
    "    )\n",
    "\n",
    "df['coll_type'].replace(to_replace=[None], value='none', inplace=True)"
   ]
  },
  {
   "cell_type": "code",
   "execution_count": 18,
   "metadata": {},
   "outputs": [],
   "source": [
    "df[\"L/v\"] = df[\"diameter\"] / df[\"vel\"]"
   ]
  },
  {
   "cell_type": "code",
   "execution_count": 21,
   "metadata": {},
   "outputs": [
    {
     "data": {
      "text/html": [
       "<div>\n",
       "<style scoped>\n",
       "    .dataframe tbody tr th:only-of-type {\n",
       "        vertical-align: middle;\n",
       "    }\n",
       "\n",
       "    .dataframe tbody tr th {\n",
       "        vertical-align: top;\n",
       "    }\n",
       "\n",
       "    .dataframe thead th {\n",
       "        text-align: right;\n",
       "    }\n",
       "</style>\n",
       "<table border=\"1\" class=\"dataframe\">\n",
       "  <thead>\n",
       "    <tr style=\"text-align: right;\">\n",
       "      <th></th>\n",
       "      <th>coll_type</th>\n",
       "      <th>coll_time</th>\n",
       "      <th>t_end</th>\n",
       "      <th>vel</th>\n",
       "      <th>diameter</th>\n",
       "      <th>L/v</th>\n",
       "    </tr>\n",
       "  </thead>\n",
       "  <tbody>\n",
       "    <tr>\n",
       "      <th>0</th>\n",
       "      <td>cars</td>\n",
       "      <td>2429</td>\n",
       "      <td>2429</td>\n",
       "      <td>4.529172</td>\n",
       "      <td>2.612508</td>\n",
       "      <td>0.576818</td>\n",
       "    </tr>\n",
       "    <tr>\n",
       "      <th>1</th>\n",
       "      <td>pedestrians</td>\n",
       "      <td>1659</td>\n",
       "      <td>1659</td>\n",
       "      <td>7.947197</td>\n",
       "      <td>0.889352</td>\n",
       "      <td>0.111908</td>\n",
       "    </tr>\n",
       "    <tr>\n",
       "      <th>2</th>\n",
       "      <td>none</td>\n",
       "      <td>4000</td>\n",
       "      <td>4000</td>\n",
       "      <td>7.946603</td>\n",
       "      <td>NaN</td>\n",
       "      <td>NaN</td>\n",
       "    </tr>\n",
       "    <tr>\n",
       "      <th>3</th>\n",
       "      <td>pedestrians</td>\n",
       "      <td>1659</td>\n",
       "      <td>1659</td>\n",
       "      <td>7.947036</td>\n",
       "      <td>0.929854</td>\n",
       "      <td>0.117006</td>\n",
       "    </tr>\n",
       "    <tr>\n",
       "      <th>4</th>\n",
       "      <td>cars</td>\n",
       "      <td>1399</td>\n",
       "      <td>1399</td>\n",
       "      <td>7.945492</td>\n",
       "      <td>2.727977</td>\n",
       "      <td>0.343336</td>\n",
       "    </tr>\n",
       "    <tr>\n",
       "      <th>...</th>\n",
       "      <td>...</td>\n",
       "      <td>...</td>\n",
       "      <td>...</td>\n",
       "      <td>...</td>\n",
       "      <td>...</td>\n",
       "      <td>...</td>\n",
       "    </tr>\n",
       "    <tr>\n",
       "      <th>128</th>\n",
       "      <td>none</td>\n",
       "      <td>4009</td>\n",
       "      <td>4009</td>\n",
       "      <td>6.572920</td>\n",
       "      <td>NaN</td>\n",
       "      <td>NaN</td>\n",
       "    </tr>\n",
       "    <tr>\n",
       "      <th>129</th>\n",
       "      <td>cars</td>\n",
       "      <td>1499</td>\n",
       "      <td>1499</td>\n",
       "      <td>7.947430</td>\n",
       "      <td>2.826570</td>\n",
       "      <td>0.355658</td>\n",
       "    </tr>\n",
       "    <tr>\n",
       "      <th>130</th>\n",
       "      <td>none</td>\n",
       "      <td>4009</td>\n",
       "      <td>4009</td>\n",
       "      <td>7.946305</td>\n",
       "      <td>NaN</td>\n",
       "      <td>NaN</td>\n",
       "    </tr>\n",
       "    <tr>\n",
       "      <th>131</th>\n",
       "      <td>none</td>\n",
       "      <td>4009</td>\n",
       "      <td>4009</td>\n",
       "      <td>6.994802</td>\n",
       "      <td>NaN</td>\n",
       "      <td>NaN</td>\n",
       "    </tr>\n",
       "    <tr>\n",
       "      <th>132</th>\n",
       "      <td>cars</td>\n",
       "      <td>1429</td>\n",
       "      <td>1429</td>\n",
       "      <td>7.963341</td>\n",
       "      <td>2.482156</td>\n",
       "      <td>0.311698</td>\n",
       "    </tr>\n",
       "  </tbody>\n",
       "</table>\n",
       "<p>133 rows × 6 columns</p>\n",
       "</div>"
      ],
      "text/plain": [
       "       coll_type coll_time t_end       vel  diameter       L/v\n",
       "0           cars      2429  2429  4.529172  2.612508  0.576818\n",
       "1    pedestrians      1659  1659  7.947197  0.889352  0.111908\n",
       "2           none      4000  4000  7.946603       NaN       NaN\n",
       "3    pedestrians      1659  1659  7.947036  0.929854  0.117006\n",
       "4           cars      1399  1399  7.945492  2.727977  0.343336\n",
       "..           ...       ...   ...       ...       ...       ...\n",
       "128         none      4009  4009  6.572920       NaN       NaN\n",
       "129         cars      1499  1499  7.947430  2.826570  0.355658\n",
       "130         none      4009  4009  7.946305       NaN       NaN\n",
       "131         none      4009  4009  6.994802       NaN       NaN\n",
       "132         cars      1429  1429  7.963341  2.482156  0.311698\n",
       "\n",
       "[133 rows x 6 columns]"
      ]
     },
     "execution_count": 21,
     "metadata": {},
     "output_type": "execute_result"
    }
   ],
   "source": [
    "df"
   ]
  },
  {
   "cell_type": "code",
   "execution_count": 20,
   "metadata": {},
   "outputs": [
    {
     "data": {
      "text/plain": [
       "['example_0',\n",
       " 'example_1',\n",
       " 'example_10',\n",
       " 'example_100',\n",
       " 'example_101',\n",
       " 'example_102',\n",
       " 'example_103',\n",
       " 'example_104',\n",
       " 'example_105',\n",
       " 'example_106',\n",
       " 'example_107',\n",
       " 'example_108',\n",
       " 'example_109',\n",
       " 'example_11',\n",
       " 'example_110',\n",
       " 'example_111',\n",
       " 'example_112',\n",
       " 'example_113',\n",
       " 'example_114',\n",
       " 'example_27',\n",
       " 'example_28',\n",
       " 'example_29',\n",
       " 'example_3',\n",
       " 'example_30',\n",
       " 'example_31',\n",
       " 'example_32',\n",
       " 'example_33',\n",
       " 'example_34',\n",
       " 'example_35',\n",
       " 'example_36',\n",
       " 'example_37',\n",
       " 'example_38',\n",
       " 'example_39',\n",
       " 'example_4',\n",
       " 'example_40',\n",
       " 'example_41',\n",
       " 'example_42',\n",
       " 'example_43',\n",
       " 'example_45',\n",
       " 'example_46',\n",
       " 'example_47',\n",
       " 'example_48',\n",
       " 'example_49',\n",
       " 'example_5',\n",
       " 'example_50',\n",
       " 'example_51',\n",
       " 'example_52',\n",
       " 'example_53',\n",
       " 'example_54',\n",
       " 'example_55',\n",
       " 'example_56',\n",
       " 'example_57',\n",
       " 'example_58',\n",
       " 'example_59',\n",
       " 'example_6',\n",
       " 'example_60',\n",
       " 'example_61',\n",
       " 'example_63',\n",
       " 'example_64',\n",
       " 'example_65',\n",
       " 'example_66',\n",
       " 'example_67',\n",
       " 'example_68',\n",
       " 'example_69',\n",
       " 'example_7',\n",
       " 'example_70',\n",
       " 'example_71',\n",
       " 'example_72',\n",
       " 'example_73',\n",
       " 'example_74',\n",
       " 'example_75',\n",
       " 'example_76',\n",
       " 'example_77',\n",
       " 'example_78',\n",
       " 'example_79',\n",
       " 'example_8',\n",
       " 'example_81',\n",
       " 'example_82',\n",
       " 'example_83',\n",
       " 'example_84',\n",
       " 'example_85',\n",
       " 'example_86',\n",
       " 'example_87',\n",
       " 'example_88',\n",
       " 'example_89',\n",
       " 'example_9',\n",
       " 'example_90',\n",
       " 'example_91',\n",
       " 'example_92',\n",
       " 'example_93',\n",
       " 'example_94',\n",
       " 'example_95',\n",
       " 'example_96',\n",
       " 'example_97',\n",
       " 'example_98',\n",
       " 'example_99',\n",
       " 'example_115',\n",
       " 'example_26',\n",
       " 'example_44',\n",
       " 'example_62',\n",
       " 'example_80',\n",
       " 'example_116',\n",
       " 'example_117',\n",
       " 'example_118',\n",
       " 'example_119',\n",
       " 'example_12',\n",
       " 'example_120',\n",
       " 'example_121',\n",
       " 'example_122',\n",
       " 'example_123',\n",
       " 'example_124',\n",
       " 'example_125',\n",
       " 'example_126',\n",
       " 'example_127',\n",
       " 'example_128',\n",
       " 'example_129',\n",
       " 'example_13',\n",
       " 'example_130',\n",
       " 'example_131',\n",
       " 'example_132',\n",
       " 'example_14',\n",
       " 'example_15',\n",
       " 'example_16',\n",
       " 'example_17',\n",
       " 'example_18',\n",
       " 'example_19',\n",
       " 'example_2',\n",
       " 'example_20',\n",
       " 'example_21',\n",
       " 'example_22',\n",
       " 'example_23',\n",
       " 'example_24',\n",
       " 'example_25']"
      ]
     },
     "execution_count": 20,
     "metadata": {},
     "output_type": "execute_result"
    }
   ],
   "source": [
    "samples"
   ]
  },
  {
   "cell_type": "code",
   "execution_count": 22,
   "metadata": {},
   "outputs": [
    {
     "data": {
      "text/plain": [
       "coll_type\n",
       "none           60\n",
       "cars           44\n",
       "pedestrians    29\n",
       "Name: count, dtype: int64"
      ]
     },
     "execution_count": 22,
     "metadata": {},
     "output_type": "execute_result"
    }
   ],
   "source": [
    "df[\"coll_type\"].value_counts()"
   ]
  },
  {
   "cell_type": "code",
   "execution_count": 11,
   "metadata": {},
   "outputs": [
    {
     "name": "stderr",
     "output_type": "stream",
     "text": [
      "/home/fabian/miniconda3/lib/python3.11/site-packages/seaborn/algorithms.py:98: RuntimeWarning: Mean of empty slice\n",
      "  boot_dist.append(f(*sample, **func_kwargs))\n",
      "/home/fabian/miniconda3/lib/python3.11/site-packages/numpy/lib/nanfunctions.py:1384: RuntimeWarning: All-NaN slice encountered\n",
      "  return _nanquantile_unchecked(\n"
     ]
    },
    {
     "data": {
      "image/png": "[encoded data removed]",
      "text/plain": [
       "<Figure size 640x480 with 1 Axes>"
      ]
     },
     "metadata": {},
     "output_type": "display_data"
    }
   ],
   "source": [
    "sns.barplot(x=\"coll_type\", y=\"diameter\", data=df)\n",
    "plt.show()"
   ]
  },
  {
   "cell_type": "code",
   "execution_count": 12,
   "metadata": {},
   "outputs": [
    {
     "data": {
      "image/png": "[encoded data removed]",
      "text/plain": [
       "<Figure size 640x480 with 1 Axes>"
      ]
     },
     "metadata": {},
     "output_type": "display_data"
    }
   ],
   "source": [
    "sns.barplot(x=\"coll_type\", y=\"coll_time\", data=df)\n",
    "plt.show()"
   ]
  },
  {
   "cell_type": "code",
   "execution_count": 13,
   "metadata": {},
   "outputs": [
    {
     "name": "stderr",
     "output_type": "stream",
     "text": [
      "/home/fabian/miniconda3/lib/python3.11/site-packages/seaborn/_oldcore.py:1119: FutureWarning: use_inf_as_na option is deprecated and will be removed in a future version. Convert inf values to NaN before operating instead.\n",
      "  with pd.option_context('mode.use_inf_as_na', True):\n"
     ]
    },
    {
     "data": {
      "image/png": "[encoded data removed]",
      "text/plain": [
       "<Figure size 640x480 with 1 Axes>"
      ]
     },
     "metadata": {},
     "output_type": "display_data"
    }
   ],
   "source": [
    "sns.histplot(x=\"vel\", hue=\"coll_type\", data=df)\n",
    "plt.show()"
   ]
  },
  {
   "cell_type": "code",
   "execution_count": 16,
   "metadata": {},
   "outputs": [
    {
     "name": "stderr",
     "output_type": "stream",
     "text": [
      "/home/fabian/miniconda3/lib/python3.11/site-packages/seaborn/_oldcore.py:1119: FutureWarning: use_inf_as_na option is deprecated and will be removed in a future version. Convert inf values to NaN before operating instead.\n",
      "  with pd.option_context('mode.use_inf_as_na', True):\n"
     ]
    },
    {
     "data": {
      "image/png": "[encoded data removed]",
      "text/plain": [
       "<Figure size 640x480 with 1 Axes>"
      ]
     },
     "metadata": {},
     "output_type": "display_data"
    }
   ],
   "source": [
    "sns.histplot(x=\"L/v\", hue=\"coll_type\", data=df)\n",
    "plt.show()"
   ]
  },
  {
   "cell_type": "code",
   "execution_count": null,
   "metadata": {},
   "outputs": [],
   "source": []
  }
 ],
 "metadata": {
  "kernelspec": {
   "display_name": "base",
   "language": "python",
   "name": "python3"
  },
  "language_info": {
   "codemirror_mode": {
    "name": "ipython",
    "version": 3
   },
   "file_extension": ".py",
   "mimetype": "text/x-python",
   "name": "python",
   "nbconvert_exporter": "python",
   "pygments_lexer": "ipython3",
   "version": "3.11.5"
  }
 },
 "nbformat": 4,
 "nbformat_minor": 2
}
