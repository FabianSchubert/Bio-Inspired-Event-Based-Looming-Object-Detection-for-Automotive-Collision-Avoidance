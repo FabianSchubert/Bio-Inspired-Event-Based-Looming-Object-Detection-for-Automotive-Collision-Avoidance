{
 "cells": [
  {
   "cell_type": "code",
   "execution_count": 2,
   "metadata": {},
   "outputs": [],
   "source": [
    "%matplotlib inline\n",
    "import matplotlib.pyplot as plt\n",
    "import numpy as np\n",
    "import torch\n",
    "import torch.nn as nn\n",
    "import os\n",
    "\n",
    "import seaborn as sns\n",
    "sns.set()\n",
    "\n",
    "from tqdm.notebook import tqdm\n",
    "\n",
    "import pandas as pd\n",
    "\n",
    "from sklearn.cluster import KMeans\n",
    "from sklearn.metrics import silhouette_score"
   ]
  },
  {
   "cell_type": "code",
   "execution_count": 3,
   "metadata": {},
   "outputs": [],
   "source": [
    "data_fold = \"../../../data/carla_sim/random_spawn\"\n",
    "exp_fold = \"../../../data/experiments/carla_sim/random_spawn\""
   ]
  },
  {
   "cell_type": "code",
   "execution_count": 4,
   "metadata": {},
   "outputs": [],
   "source": [
    "WIDTH, HEIGHT = 640, 480\n",
    "\n",
    "N_SUBDIV_X = 2\n",
    "N_SUBDIV_Y = 2\n",
    "SUBDIV_WIDTH, SUBDIV_HEIGHT = WIDTH // N_SUBDIV_X, HEIGHT // N_SUBDIV_Y\n",
    "N_DISCARD_TOP = 1\n",
    "N_DISCARD_BOTTOM = 1\n",
    "N_DISCARD_LEFT = 1\n",
    "N_DISCARD_RIGHT = 1\n",
    "\n",
    "T_STEPS = 200\n",
    "\n",
    "T_STEPS_T_COLL_MAX = 100  # number of time steps before collision to consider as a positive output if a collision occurs in the sequence"
   ]
  },
  {
   "cell_type": "code",
   "execution_count": 5,
   "metadata": {},
   "outputs": [],
   "source": [
    "class SigmoidScaleBias(nn.Module):\n",
    "    def __init__(self, dim, scale=True, bias=True, single_param=False):\n",
    "        super().__init__()\n",
    "        if bias:\n",
    "            self.bias = nn.Parameter(torch.Tensor(1 if single_param else dim))\n",
    "        else:\n",
    "            # You should always register all possible parameters, but the\n",
    "            # optional ones can be None if you want.\n",
    "            self.register_parameter('bias', None)\n",
    "        if scale:\n",
    "            self.scale = nn.Parameter(torch.Tensor(1 if single_param else dim))\n",
    "        else:\n",
    "            self.register_parameter('scale', None)\n",
    "        \n",
    "        if self.bias is not None:\n",
    "            self.bias.data.uniform_(0, 0)\n",
    "\n",
    "        if self.scale is not None:\n",
    "            self.scale.data.uniform_(1, 1)\n",
    "\n",
    "    def forward(self, input):\n",
    "        output = input\n",
    "        if self.scale is not None:\n",
    "            output *= self.scale.unsqueeze(0).expand_as(output)\n",
    "        if self.bias is not None:\n",
    "            output -= self.bias.unsqueeze(0).expand_as(output)\n",
    "        return torch.sigmoid(output)"
   ]
  },
  {
   "cell_type": "code",
   "execution_count": 6,
   "metadata": {},
   "outputs": [],
   "source": [
    "class Net(nn.Module):\n",
    "    def __init__(\n",
    "        self,\n",
    "        width=SUBDIV_WIDTH,\n",
    "        height=SUBDIV_HEIGHT,\n",
    "        kern_half_size=3,\n",
    "        rmo_head=True,\n",
    "        sigm_kern=0.3,\n",
    "        reg=1.5,\n",
    "        dt=10.0,\n",
    "        r_out_sigm_scale=500.0,\n",
    "        r_out_scale=500.0,\n",
    "        train_weights=True,\n",
    "        size_layers=[10],\n",
    "        use_dropout=False,\n",
    "        train_kernels=False,\n",
    "    ):\n",
    "        super().__init__()\n",
    "\n",
    "        self.width = width\n",
    "        self.height = height\n",
    "        self.kern_half_size = kern_half_size\n",
    "        self.size_layers = (\n",
    "            size_layers if isinstance(size_layers, list) else [size_layers]\n",
    "        )\n",
    "        self.kern_size = 2 * kern_half_size + 1\n",
    "\n",
    "        self.sigm_kern = sigm_kern\n",
    "\n",
    "        self.reg = reg\n",
    "\n",
    "        self.dt = dt\n",
    "\n",
    "        self.train_weights = train_weights\n",
    "\n",
    "        self.rmo_head = rmo_head\n",
    "        self.use_dropout = use_dropout\n",
    "\n",
    "        _x, _y = np.meshgrid(\n",
    "            np.arange(-kern_half_size, kern_half_size + 1),\n",
    "            np.arange(-kern_half_size, kern_half_size + 1),\n",
    "        )\n",
    "\n",
    "        self.kern_x = nn.Conv2d(\n",
    "            1, 1, self.kern_size, padding=kern_half_size, bias=False\n",
    "        )\n",
    "\n",
    "        self.kern_y = nn.Conv2d(\n",
    "            1, 1, self.kern_size, padding=kern_half_size, bias=False\n",
    "        )\n",
    "\n",
    "        self.kern_norm = nn.Conv2d(\n",
    "            1, 1, self.kern_size, padding=kern_half_size, bias=False\n",
    "        )\n",
    "\n",
    "        _gauss = np.exp(-(_x**2 + _y**2) / (2.0 * (sigm_kern * kern_half_size) ** 2))\n",
    "        _gauss /= _gauss.sum()\n",
    "\n",
    "        with torch.no_grad():\n",
    "            self.kern_norm.weight.data = nn.Parameter(\n",
    "                torch.tensor(_gauss).float().unsqueeze(0).unsqueeze(0),\n",
    "            )\n",
    "            self.kern_norm.weight.requires_grad = train_kernels\n",
    "\n",
    "            self.kern_x.weight.data = nn.Parameter(\n",
    "                torch.tensor(_x * _gauss).float().unsqueeze(0).unsqueeze(0),\n",
    "            )\n",
    "            self.kern_x.weight.requires_grad = train_kernels\n",
    "\n",
    "            self.kern_y.weight.data = nn.Parameter(\n",
    "                torch.tensor(_y * _gauss).float().unsqueeze(0).unsqueeze(0),\n",
    "            )\n",
    "            self.kern_y.weight.requires_grad = train_kernels\n",
    "\n",
    "        self.vx = torch.zeros((1, 1, height, width)).float()\n",
    "        self.vy = torch.zeros((1, 1, height, width)).float()\n",
    "\n",
    "        _x, _y = np.meshgrid(\n",
    "            np.linspace(-1, 1, width),\n",
    "            np.linspace(-height / width, height / width, height),\n",
    "        )\n",
    "\n",
    "        with torch.no_grad():\n",
    "            #if not self.train_weights:\n",
    "            self.wx = nn.Parameter(\n",
    "                torch.tensor(_x).float().unsqueeze(0).unsqueeze(0)\n",
    "            )\n",
    "            self.wy = nn.Parameter(\n",
    "                torch.tensor(_y).float().unsqueeze(0).unsqueeze(0)\n",
    "            )\n",
    "            '''\n",
    "            else:\n",
    "                self.wx = nn.Parameter(\n",
    "                    torch.ones((1, 1, height, width))\n",
    "                )\n",
    "                self.wy = nn.Parameter(\n",
    "                    torch.ones((1, 1, height, width))\n",
    "                )\n",
    "            '''\n",
    "            self.wx.requires_grad = False#self.train_weights\n",
    "            self.wy.requires_grad = False#self.train_weights\n",
    "\n",
    "            # self.wx = nn.Parameter(torch.zeros((1, 1, height, width)))\n",
    "            # self.wy = nn.Parameter(torch.zeros((1, 1, height, width)))\n",
    "\n",
    "        self.fwd = nn.Sequential(\n",
    "            nn.Flatten(),\n",
    "            nn.Linear(width * height, 2, bias=False),\n",
    "        )\n",
    "\n",
    "        with torch.no_grad():\n",
    "            if not self.train_weights:\n",
    "                w_pos = np.exp(-(_x**2.0) / (2.0 * 0.25**2)) * np.exp(\n",
    "                    -(_y**2.0) / (2.0 * 0.25**2)\n",
    "                )\n",
    "                w_pos_left = np.zeros_like(w_pos)\n",
    "                w_pos_left[:, : width // 2] = w_pos[:, : width // 2]\n",
    "                w_pos_right = np.zeros_like(w_pos)\n",
    "                w_pos_right[:, width // 2 :] = w_pos[:, width // 2 :]\n",
    "\n",
    "                self.fwd[1].weight.data[0] = nn.Parameter(\n",
    "                    torch.tensor(w_pos_left.flatten()).float()\n",
    "                )\n",
    "                self.fwd[1].weight.data[1] = nn.Parameter(\n",
    "                    torch.tensor(w_pos_right.flatten()).float()\n",
    "                )\n",
    "            else:\n",
    "                self.fwd[1].weight.data = nn.Parameter(\n",
    "                    torch.zeros((2, width * height)).float()\n",
    "                )\n",
    "\n",
    "            self.fwd[1].weight.requires_grad = self.train_weights\n",
    "\n",
    "        self.sigm = SigmoidScaleBias(2, single_param=True)\n",
    "\n",
    "        with torch.no_grad():\n",
    "            self.sigm.scale = nn.Parameter(torch.tensor([r_out_sigm_scale]).float())\n",
    "\n",
    "        self.out_scale = nn.Parameter(torch.tensor([r_out_scale]).float())\n",
    "\n",
    "        self.out_th = nn.Parameter(torch.zeros((1)).float())\n",
    "\n",
    "        if self.use_dropout:\n",
    "            self.dropout = nn.Dropout(self.use_dropout)\n",
    "\n",
    "    def forward(self, x):\n",
    "        x_p = (x > 0).float()\n",
    "        x_n = (x < 0).float()\n",
    "\n",
    "        if self.use_dropout:\n",
    "            x_p = self.dropout(x_p)\n",
    "            x_n = self.dropout(x_n)\n",
    "\n",
    "        I_x_p_prev = self.kern_x(x_p[..., 0:1, :, :])\n",
    "        I_y_p_prev = self.kern_y(x_p[..., 0:1, :, :])\n",
    "        I_norm_p_prev = self.kern_norm(x_p[..., 0:1, :, :])\n",
    "\n",
    "        vx_p = (\n",
    "            -x_p[..., 1:2, :, :]\n",
    "            * I_x_p_prev\n",
    "            * self.dt\n",
    "            / (self.reg**2 + I_norm_p_prev * self.dt**2)\n",
    "        )\n",
    "        vy_p = (\n",
    "            -x_p[..., 1:2, :, :]\n",
    "            * I_y_p_prev\n",
    "            * self.dt\n",
    "            / (self.reg**2 + I_norm_p_prev * self.dt**2)\n",
    "        )\n",
    "\n",
    "        I_x_n_prev = self.kern_x(x_n[..., 0:1, :, :])\n",
    "        I_y_n_prev = self.kern_y(x_n[..., 0:1, :, :])\n",
    "        I_norm_n_prev = self.kern_norm(x_n[..., 0:1, :, :])\n",
    "\n",
    "        vx_n = (\n",
    "            -x_n[..., 1:2, :, :]\n",
    "            * I_x_n_prev\n",
    "            * self.dt\n",
    "            / (self.reg**2 + I_norm_n_prev * self.dt**2)\n",
    "        )\n",
    "        vy_n = (\n",
    "            -x_n[..., 1:2, :, :]\n",
    "            * I_y_n_prev\n",
    "            * self.dt\n",
    "            / (self.reg**2 + I_norm_n_prev * self.dt**2)\n",
    "        )\n",
    "\n",
    "        self.vx = vx_p + vx_n\n",
    "        self.vy = vy_p + vy_n\n",
    "\n",
    "        v_project = self.vx * self.wx + self.vy * self.wy\n",
    "\n",
    "        left_right = self.fwd(v_project)\n",
    "\n",
    "        if self.rmo_head:\n",
    "            out = (\n",
    "                self.out_scale\n",
    "                * torch.min(left_right, dim=1).values\n",
    "                * torch.prod(self.sigm(left_right), dim=1)\n",
    "                - self.out_th\n",
    "            )\n",
    "        else:\n",
    "            out = self.out_scale * left_right.mean(dim=1) - self.out_th\n",
    "\n",
    "        return out"
   ]
  },
  {
   "cell_type": "code",
   "execution_count": 7,
   "metadata": {},
   "outputs": [],
   "source": [
    "def load_metadata(fold, t_steps):\n",
    "    samples = [f for f in os.listdir(fold) if f.startswith(\"example\")]\n",
    "    samples.sort(key=lambda x: int(x.split(\"_\")[1]))\n",
    "\n",
    "    labels = []\n",
    "    metadata = []\n",
    "\n",
    "    samples_filtered = []\n",
    "\n",
    "    for sample in samples:\n",
    "        metadat = np.load(os.path.join(fold, sample, \"sim_data.npz\"), allow_pickle=True)\n",
    "\n",
    "        sample_steps = int(metadat[\"t_end\"] // metadat[\"dt\"])\n",
    "\n",
    "        if sample_steps < t_steps:\n",
    "            continue\n",
    "        \n",
    "        samples_filtered.append(sample)\n",
    "\n",
    "        labels.append(int(not metadat[\"coll_type\"][()].startswith(\"none\")))\n",
    "\n",
    "        metadata.append(\n",
    "            {\n",
    "                \"coll_type\": metadat[\"coll_type\"][()],\n",
    "                \"t_end_ms\": metadat[\"t_end\"][()],\n",
    "                \"dt\": metadat[\"dt\"][()],\n",
    "                \"vel\": metadat[\"vel\"][()],\n",
    "                \"diam\": metadat[\"diameter_object\"][()],\n",
    "            }\n",
    "        )\n",
    "    \n",
    "    return samples_filtered, labels, metadata"
   ]
  },
  {
   "cell_type": "code",
   "execution_count": 8,
   "metadata": {},
   "outputs": [
    {
     "name": "stdout",
     "output_type": "stream",
     "text": [
      "{'cars': 251, 'none': 294, 'none_with_crossing': 175, 'none_with_traffic': 167, 'pedestrians': 251}\n"
     ]
    }
   ],
   "source": [
    "smpls, lbls, md = load_metadata(data_fold, T_STEPS)\n",
    "\n",
    "types, counts = np.unique([m[\"coll_type\"] for m in md], return_counts=True)\n",
    "type_counts = dict(zip(list(types), list(counts)))\n",
    "\n",
    "print(type_counts)"
   ]
  },
  {
   "cell_type": "code",
   "execution_count": 11,
   "metadata": {},
   "outputs": [],
   "source": [
    "N_SAMPLES = 1000\n",
    "\n",
    "# desired proportion of collision types:\n",
    "# 25% cars, 25% pedestrians, %25 none, 25% none with crossing\n",
    "\n",
    "# check if we have enough samples for each type\n",
    "assert N_SAMPLES // 4 <= type_counts[\"cars\"]\n",
    "assert N_SAMPLES // 4 <= type_counts[\"pedestrians\"]\n",
    "assert N_SAMPLES // 6 <= type_counts[\"none\"]\n",
    "assert N_SAMPLES // 6 <= type_counts[\"none_with_crossing\"]\n",
    "assert N_SAMPLES // 6 <= type_counts[\"none_with_traffic\"]"
   ]
  },
  {
   "cell_type": "code",
   "execution_count": 16,
   "metadata": {},
   "outputs": [],
   "source": [
    "inds_cars = np.where(np.array([m[\"coll_type\"] for m in md]) == \"cars\")[0]\n",
    "inds_pedestrians = np.where(np.array([m[\"coll_type\"] for m in md]) == \"pedestrians\")[0]\n",
    "inds_none = np.where(np.array([m[\"coll_type\"] for m in md]) == \"none\")[0]\n",
    "inds_none_with_crossing = np.where(np.array([m[\"coll_type\"] for m in md]) == \"none_with_crossing\")[0]\n",
    "inds_none_with_traffic = np.where(np.array([m[\"coll_type\"] for m in md]) == \"none_with_traffic\")[0]\n",
    "\n",
    "np.random.shuffle(inds_cars)\n",
    "np.random.shuffle(inds_pedestrians)\n",
    "np.random.shuffle(inds_none)\n",
    "np.random.shuffle(inds_none_with_crossing)\n",
    "np.random.shuffle(inds_none_with_traffic)\n",
    "\n",
    "inds = list(inds_cars[:N_SAMPLES // 4])\n",
    "inds.extend(list(inds_pedestrians[:N_SAMPLES // 4]))\n",
    "inds.extend(list(inds_none[:N_SAMPLES // 6]))\n",
    "inds.extend(list(inds_none_with_crossing[:N_SAMPLES // 6]))\n",
    "# fill the remaining samples with none_with_traffic\n",
    "inds.extend(list(inds_none_with_traffic[:N_SAMPLES - len(inds)]))\n",
    "\n",
    "np.random.shuffle(inds)\n",
    "\n",
    "N_TRAIN = int(0.15 * N_SAMPLES)\n",
    "N_VAL = int(0.15 * N_SAMPLES)\n",
    "N_TEST = N_SAMPLES - N_TRAIN - N_VAL\n",
    "\n",
    "smpls_train = [smpls[i] for i in inds[:N_TRAIN]]\n",
    "smpls_val = [smpls[i] for i in inds[N_TRAIN:N_TRAIN + N_VAL]]\n",
    "smpls_test = [smpls[i] for i in inds[N_TRAIN + N_VAL:N_SAMPLES]]\n",
    "\n",
    "np.save(os.path.join(exp_fold, \"idxs.npy\"), inds)\n",
    "\n",
    "np.savez(os.path.join(exp_fold, \"samples.npz\"), train=smpls_train, val=smpls_val, test=smpls_test)"
   ]
  },
  {
   "cell_type": "code",
   "execution_count": 13,
   "metadata": {},
   "outputs": [],
   "source": [
    "def load_raw_data(fold, samples):\n",
    "    labels = []\n",
    "    metadata = []\n",
    "    data = []\n",
    "\n",
    "    mem_gb = 0\n",
    "\n",
    "    for sample in samples:\n",
    "        events = np.load(os.path.join(fold, sample, \"events.npy\"))\n",
    "        metadat = np.load(os.path.join(fold, sample, \"sim_data.npz\"), allow_pickle=True)\n",
    "\n",
    "        labels.append(int(not metadat[\"coll_type\"][()].startswith(\"none\")))\n",
    "\n",
    "        data.append(events)\n",
    "\n",
    "        mem_gb += events.nbytes / 1e9\n",
    "        print(f\"Total estimate of event data size: {mem_gb:.2f} GB\", end=\"\\r\")\n",
    "\n",
    "        metadata.append(\n",
    "            {\n",
    "                \"coll_type\": metadat[\"coll_type\"][()],\n",
    "                \"t_end_ms\": metadat[\"t_end\"][()],\n",
    "                \"dt\": metadat[\"dt\"][()],\n",
    "                \"vel\": metadat[\"vel\"][()],\n",
    "                \"diam\": metadat[\"diameter_object\"][()],\n",
    "            }\n",
    "        )\n",
    "    \n",
    "    return data, labels, metadata"
   ]
  },
  {
   "cell_type": "code",
   "execution_count": 17,
   "metadata": {},
   "outputs": [
    {
     "name": "stdout",
     "output_type": "stream",
     "text": [
      "Total estimate of event data size: 7.89 GB\r"
     ]
    }
   ],
   "source": [
    "data_train, lbls_train, md_train = load_raw_data(data_fold, smpls_train)\n",
    "data_val, lbls_val, md_val = load_raw_data(data_fold, smpls_val)\n",
    "#data_test, lbls_test, md_test = load_raw_data(data_fold, smpls_test)"
   ]
  },
  {
   "cell_type": "code",
   "execution_count": 18,
   "metadata": {},
   "outputs": [],
   "source": [
    "def convert_to_tens(data, labels, metadata, t_steps):\n",
    "    X = []\n",
    "\n",
    "    idx_drop = []\n",
    "    for i, events in tqdm(enumerate(data)):\n",
    "        dt = metadata[i][\"dt\"]\n",
    "        t_end = metadata[i][\"t_end_ms\"]\n",
    "        nt = int(t_end / dt)\n",
    "        if nt < t_steps:\n",
    "            idx_drop.append(i)\n",
    "            print(f\"Sample {i} has too few frames, dropping it.\")\n",
    "            continue\n",
    "        _dat = torch.zeros(t_steps, SUBDIV_HEIGHT, SUBDIV_WIDTH).type(torch.int8)\n",
    "\n",
    "        # if it is any other than none_with_crossing, start at idx so that we end with the end of the sequence\n",
    "        # if it is none_with_crossing, we center around the middle of the sequence, because the object is at the center\n",
    "        # of the frame roughly at the middle of the sequence\n",
    "        if metadata[i][\"coll_type\"] != \"none_with_crossing\":\n",
    "            t_offset = nt - t_steps\n",
    "        else:\n",
    "            t_offset = (nt - t_steps) // 2\n",
    "        for t in tqdm(range(t_steps), leave=False):\n",
    "            _evts = events[\n",
    "                (events[\"t\"] >= (t + t_offset) * dt)\n",
    "                & (events[\"t\"] < (t + 1 + t_offset) * dt)\n",
    "                & (events[\"y\"] >= N_DISCARD_TOP * SUBDIV_HEIGHT // 2)\n",
    "                & (events[\"y\"] < HEIGHT - N_DISCARD_BOTTOM * SUBDIV_HEIGHT // 2)\n",
    "                & (events[\"x\"] >= N_DISCARD_LEFT * SUBDIV_WIDTH // 2)\n",
    "                & (events[\"x\"] < WIDTH - N_DISCARD_RIGHT * SUBDIV_WIDTH // 2)\n",
    "            ]\n",
    "            _dat[\n",
    "                t,\n",
    "                _evts[\"y\"] - N_DISCARD_TOP * SUBDIV_HEIGHT // 2,\n",
    "                _evts[\"x\"] - N_DISCARD_LEFT * SUBDIV_WIDTH // 2,\n",
    "            ] = torch.tensor(2 * _evts[\"p\"].astype(int) - 1).type(torch.int8)\n",
    "        X.append(_dat)\n",
    "\n",
    "    X = torch.stack(X)\n",
    "\n",
    "    labels = torch.tensor(\n",
    "        [labels[i] for i in range(len(labels)) if i not in idx_drop]\n",
    "    ).type(torch.int8)\n",
    "    metadata = [metadata[i] for i in range(len(metadata)) if i not in idx_drop]\n",
    "\n",
    "    return X, labels, metadata"
   ]
  },
  {
   "cell_type": "code",
   "execution_count": 19,
   "metadata": {},
   "outputs": [
    {
     "data": {
      "application/vnd.jupyter.widget-view+json": {
       "model_id": "4dda7669a3e049e395ea9df5f6b91e02",
       "version_major": 2,
       "version_minor": 0
      },
      "text/plain": [
       "0it [00:00, ?it/s]"
      ]
     },
     "metadata": {},
     "output_type": "display_data"
    },
    {
     "data": {
      "application/vnd.jupyter.widget-view+json": {
       "model_id": "88f7d1006be14664a5affb1988d533a5",
       "version_major": 2,
       "version_minor": 0
      },
      "text/plain": [
       "  0%|          | 0/200 [00:00<?, ?it/s]"
      ]
     },
     "metadata": {},
     "output_type": "display_data"
    },
    {
     "data": {
      "application/vnd.jupyter.widget-view+json": {
       "model_id": "52845f8e621f401e98a21e8a0e8b6ee0",
       "version_major": 2,
       "version_minor": 0
      },
      "text/plain": [
       "  0%|          | 0/200 [00:00<?, ?it/s]"
      ]
     },
     "metadata": {},
     "output_type": "display_data"
    },
    {
     "data": {
      "application/vnd.jupyter.widget-view+json": {
       "model_id": "32a3d4abc4f74937be8e370f024fab92",
       "version_major": 2,
       "version_minor": 0
      },
      "text/plain": [
       "  0%|          | 0/200 [00:00<?, ?it/s]"
      ]
     },
     "metadata": {},
     "output_type": "display_data"
    },
    {
     "data": {
      "application/vnd.jupyter.widget-view+json": {
       "model_id": "de859c8d201a42e0b6170e453969fa85",
       "version_major": 2,
       "version_minor": 0
      },
      "text/plain": [
       "  0%|          | 0/200 [00:00<?, ?it/s]"
      ]
     },
     "metadata": {},
     "output_type": "display_data"
    },
    {
     "data": {
      "application/vnd.jupyter.widget-view+json": {
       "model_id": "658c3b4e9f024777b58df48f18fc7319",
       "version_major": 2,
       "version_minor": 0
      },
      "text/plain": [
       "  0%|          | 0/200 [00:00<?, ?it/s]"
      ]
     },
     "metadata": {},
     "output_type": "display_data"
    },
    {
     "data": {
      "application/vnd.jupyter.widget-view+json": {
       "model_id": "b8be5c97be0848528490cabf67cbb5d1",
       "version_major": 2,
       "version_minor": 0
      },
      "text/plain": [
       "  0%|          | 0/200 [00:00<?, ?it/s]"
      ]
     },
     "metadata": {},
     "output_type": "display_data"
    },
    {
     "data": {
      "application/vnd.jupyter.widget-view+json": {
       "model_id": "2f198d639cb84a80a8907bda9f679626",
       "version_major": 2,
       "version_minor": 0
      },
      "text/plain": [
       "  0%|          | 0/200 [00:00<?, ?it/s]"
      ]
     },
     "metadata": {},
     "output_type": "display_data"
    },
    {
     "data": {
      "application/vnd.jupyter.widget-view+json": {
       "model_id": "a90cc83496204f47b4ffd6f4c4b360a9",
       "version_major": 2,
       "version_minor": 0
      },
      "text/plain": [
       "  0%|          | 0/200 [00:00<?, ?it/s]"
      ]
     },
     "metadata": {},
     "output_type": "display_data"
    },
    {
     "data": {
      "application/vnd.jupyter.widget-view+json": {
       "model_id": "32b034a9034a43b18f6b1d18600e03b0",
       "version_major": 2,
       "version_minor": 0
      },
      "text/plain": [
       "  0%|          | 0/200 [00:00<?, ?it/s]"
      ]
     },
     "metadata": {},
     "output_type": "display_data"
    },
    {
     "data": {
      "application/vnd.jupyter.widget-view+json": {
       "model_id": "bfbcf5d28ccb46fdb2b26bb59724b7b6",
       "version_major": 2,
       "version_minor": 0
      },
      "text/plain": [
       "  0%|          | 0/200 [00:00<?, ?it/s]"
      ]
     },
     "metadata": {},
     "output_type": "display_data"
    },
    {
     "data": {
      "application/vnd.jupyter.widget-view+json": {
       "model_id": "94e21efe9c7845c5b3fc13cada219376",
       "version_major": 2,
       "version_minor": 0
      },
      "text/plain": [
       "  0%|          | 0/200 [00:00<?, ?it/s]"
      ]
     },
     "metadata": {},
     "output_type": "display_data"
    },
    {
     "data": {
      "application/vnd.jupyter.widget-view+json": {
       "model_id": "c28239d0f3974c7b92e65e6c4d23d8f0",
       "version_major": 2,
       "version_minor": 0
      },
      "text/plain": [
       "  0%|          | 0/200 [00:00<?, ?it/s]"
      ]
     },
     "metadata": {},
     "output_type": "display_data"
    },
    {
     "data": {
      "application/vnd.jupyter.widget-view+json": {
       "model_id": "1e270d198f2d479c8e451e09d409961d",
       "version_major": 2,
       "version_minor": 0
      },
      "text/plain": [
       "  0%|          | 0/200 [00:00<?, ?it/s]"
      ]
     },
     "metadata": {},
     "output_type": "display_data"
    },
    {
     "data": {
      "application/vnd.jupyter.widget-view+json": {
       "model_id": "2e20a790c96f47fb9f6d4737a43d1747",
       "version_major": 2,
       "version_minor": 0
      },
      "text/plain": [
       "  0%|          | 0/200 [00:00<?, ?it/s]"
      ]
     },
     "metadata": {},
     "output_type": "display_data"
    },
    {
     "data": {
      "application/vnd.jupyter.widget-view+json": {
       "model_id": "62e809406fc947ec9f0c489c3f228a8d",
       "version_major": 2,
       "version_minor": 0
      },
      "text/plain": [
       "  0%|          | 0/200 [00:00<?, ?it/s]"
      ]
     },
     "metadata": {},
     "output_type": "display_data"
    },
    {
     "data": {
      "application/vnd.jupyter.widget-view+json": {
       "model_id": "705ef23a07574dfc9dd9dd63694b5fb7",
       "version_major": 2,
       "version_minor": 0
      },
      "text/plain": [
       "  0%|          | 0/200 [00:00<?, ?it/s]"
      ]
     },
     "metadata": {},
     "output_type": "display_data"
    },
    {
     "data": {
      "application/vnd.jupyter.widget-view+json": {
       "model_id": "500e0690dc6d4eb8b844a21408909a3b",
       "version_major": 2,
       "version_minor": 0
      },
      "text/plain": [
       "  0%|          | 0/200 [00:00<?, ?it/s]"
      ]
     },
     "metadata": {},
     "output_type": "display_data"
    },
    {
     "data": {
      "application/vnd.jupyter.widget-view+json": {
       "model_id": "0e757726e2474dd29d7be63c94160ff1",
       "version_major": 2,
       "version_minor": 0
      },
      "text/plain": [
       "  0%|          | 0/200 [00:00<?, ?it/s]"
      ]
     },
     "metadata": {},
     "output_type": "display_data"
    },
    {
     "data": {
      "application/vnd.jupyter.widget-view+json": {
       "model_id": "30d08f14be6c429fb26138368e2f651f",
       "version_major": 2,
       "version_minor": 0
      },
      "text/plain": [
       "  0%|          | 0/200 [00:00<?, ?it/s]"
      ]
     },
     "metadata": {},
     "output_type": "display_data"
    },
    {
     "data": {
      "application/vnd.jupyter.widget-view+json": {
       "model_id": "3f296686d30a4724b43246258d1ed2f9",
       "version_major": 2,
       "version_minor": 0
      },
      "text/plain": [
       "  0%|          | 0/200 [00:00<?, ?it/s]"
      ]
     },
     "metadata": {},
     "output_type": "display_data"
    },
    {
     "data": {
      "application/vnd.jupyter.widget-view+json": {
       "model_id": "a22ee1ddad9b478082ad75bf7f18eed1",
       "version_major": 2,
       "version_minor": 0
      },
      "text/plain": [
       "  0%|          | 0/200 [00:00<?, ?it/s]"
      ]
     },
     "metadata": {},
     "output_type": "display_data"
    },
    {
     "data": {
      "application/vnd.jupyter.widget-view+json": {
       "model_id": "3b8590f90db84fed84d9af9dbcd5ab01",
       "version_major": 2,
       "version_minor": 0
      },
      "text/plain": [
       "  0%|          | 0/200 [00:00<?, ?it/s]"
      ]
     },
     "metadata": {},
     "output_type": "display_data"
    },
    {
     "data": {
      "application/vnd.jupyter.widget-view+json": {
       "model_id": "ab45b339050143e384832826724beed6",
       "version_major": 2,
       "version_minor": 0
      },
      "text/plain": [
       "  0%|          | 0/200 [00:00<?, ?it/s]"
      ]
     },
     "metadata": {},
     "output_type": "display_data"
    },
    {
     "data": {
      "application/vnd.jupyter.widget-view+json": {
       "model_id": "99a9b6aba458482f985afc95316bc7f7",
       "version_major": 2,
       "version_minor": 0
      },
      "text/plain": [
       "  0%|          | 0/200 [00:00<?, ?it/s]"
      ]
     },
     "metadata": {},
     "output_type": "display_data"
    },
    {
     "data": {
      "application/vnd.jupyter.widget-view+json": {
       "model_id": "c427928bf2be4446886deac480e9b2b0",
       "version_major": 2,
       "version_minor": 0
      },
      "text/plain": [
       "  0%|          | 0/200 [00:00<?, ?it/s]"
      ]
     },
     "metadata": {},
     "output_type": "display_data"
    },
    {
     "data": {
      "application/vnd.jupyter.widget-view+json": {
       "model_id": "1dd42dc577f9415d80a579e983be90e2",
       "version_major": 2,
       "version_minor": 0
      },
      "text/plain": [
       "  0%|          | 0/200 [00:00<?, ?it/s]"
      ]
     },
     "metadata": {},
     "output_type": "display_data"
    },
    {
     "data": {
      "application/vnd.jupyter.widget-view+json": {
       "model_id": "52e4bd54a0c3419488c359c88956215d",
       "version_major": 2,
       "version_minor": 0
      },
      "text/plain": [
       "  0%|          | 0/200 [00:00<?, ?it/s]"
      ]
     },
     "metadata": {},
     "output_type": "display_data"
    },
    {
     "data": {
      "application/vnd.jupyter.widget-view+json": {
       "model_id": "3932d95b4cc5403a8704590bc91bd95c",
       "version_major": 2,
       "version_minor": 0
      },
      "text/plain": [
       "  0%|          | 0/200 [00:00<?, ?it/s]"
      ]
     },
     "metadata": {},
     "output_type": "display_data"
    },
    {
     "data": {
      "application/vnd.jupyter.widget-view+json": {
       "model_id": "2d1f9b7753ea4473841f5409fd01e907",
       "version_major": 2,
       "version_minor": 0
      },
      "text/plain": [
       "  0%|          | 0/200 [00:00<?, ?it/s]"
      ]
     },
     "metadata": {},
     "output_type": "display_data"
    },
    {
     "data": {
      "application/vnd.jupyter.widget-view+json": {
       "model_id": "65e3c75b05ec442a9f45cb2af7d01b1b",
       "version_major": 2,
       "version_minor": 0
      },
      "text/plain": [
       "  0%|          | 0/200 [00:00<?, ?it/s]"
      ]
     },
     "metadata": {},
     "output_type": "display_data"
    },
    {
     "data": {
      "application/vnd.jupyter.widget-view+json": {
       "model_id": "0af8f6c7998340ab88ffdaf59bb2ee86",
       "version_major": 2,
       "version_minor": 0
      },
      "text/plain": [
       "  0%|          | 0/200 [00:00<?, ?it/s]"
      ]
     },
     "metadata": {},
     "output_type": "display_data"
    },
    {
     "data": {
      "application/vnd.jupyter.widget-view+json": {
       "model_id": "adb7cc1719984f8b935d6a4f3e0451e6",
       "version_major": 2,
       "version_minor": 0
      },
      "text/plain": [
       "  0%|          | 0/200 [00:00<?, ?it/s]"
      ]
     },
     "metadata": {},
     "output_type": "display_data"
    },
    {
     "data": {
      "application/vnd.jupyter.widget-view+json": {
       "model_id": "1d23a5908c36472c9df756d3f2a892e7",
       "version_major": 2,
       "version_minor": 0
      },
      "text/plain": [
       "  0%|          | 0/200 [00:00<?, ?it/s]"
      ]
     },
     "metadata": {},
     "output_type": "display_data"
    },
    {
     "data": {
      "application/vnd.jupyter.widget-view+json": {
       "model_id": "71a109204883431c84b09300a925cd93",
       "version_major": 2,
       "version_minor": 0
      },
      "text/plain": [
       "  0%|          | 0/200 [00:00<?, ?it/s]"
      ]
     },
     "metadata": {},
     "output_type": "display_data"
    },
    {
     "data": {
      "application/vnd.jupyter.widget-view+json": {
       "model_id": "d2be70741ec54a9f99f027bb585deccc",
       "version_major": 2,
       "version_minor": 0
      },
      "text/plain": [
       "  0%|          | 0/200 [00:00<?, ?it/s]"
      ]
     },
     "metadata": {},
     "output_type": "display_data"
    },
    {
     "data": {
      "application/vnd.jupyter.widget-view+json": {
       "model_id": "3ef70f03d6b74a928ce5c0369e63105c",
       "version_major": 2,
       "version_minor": 0
      },
      "text/plain": [
       "  0%|          | 0/200 [00:00<?, ?it/s]"
      ]
     },
     "metadata": {},
     "output_type": "display_data"
    },
    {
     "data": {
      "application/vnd.jupyter.widget-view+json": {
       "model_id": "4389c3f9b6154cfc9dc1504c0306031e",
       "version_major": 2,
       "version_minor": 0
      },
      "text/plain": [
       "  0%|          | 0/200 [00:00<?, ?it/s]"
      ]
     },
     "metadata": {},
     "output_type": "display_data"
    },
    {
     "data": {
      "application/vnd.jupyter.widget-view+json": {
       "model_id": "c1385fe0e1374509a75d237e86809f76",
       "version_major": 2,
       "version_minor": 0
      },
      "text/plain": [
       "  0%|          | 0/200 [00:00<?, ?it/s]"
      ]
     },
     "metadata": {},
     "output_type": "display_data"
    },
    {
     "data": {
      "application/vnd.jupyter.widget-view+json": {
       "model_id": "b2d978e3a28446678e291c15178e513d",
       "version_major": 2,
       "version_minor": 0
      },
      "text/plain": [
       "  0%|          | 0/200 [00:00<?, ?it/s]"
      ]
     },
     "metadata": {},
     "output_type": "display_data"
    },
    {
     "data": {
      "application/vnd.jupyter.widget-view+json": {
       "model_id": "ed8370b570614114add0d4fd21d45608",
       "version_major": 2,
       "version_minor": 0
      },
      "text/plain": [
       "  0%|          | 0/200 [00:00<?, ?it/s]"
      ]
     },
     "metadata": {},
     "output_type": "display_data"
    },
    {
     "data": {
      "application/vnd.jupyter.widget-view+json": {
       "model_id": "1851a52a672344b3b4e61a09541ed190",
       "version_major": 2,
       "version_minor": 0
      },
      "text/plain": [
       "  0%|          | 0/200 [00:00<?, ?it/s]"
      ]
     },
     "metadata": {},
     "output_type": "display_data"
    },
    {
     "data": {
      "application/vnd.jupyter.widget-view+json": {
       "model_id": "feb5254bd5a94f1f9ec97c68a1da641f",
       "version_major": 2,
       "version_minor": 0
      },
      "text/plain": [
       "  0%|          | 0/200 [00:00<?, ?it/s]"
      ]
     },
     "metadata": {},
     "output_type": "display_data"
    },
    {
     "data": {
      "application/vnd.jupyter.widget-view+json": {
       "model_id": "781f1f03967247ccbb126e965730f5b5",
       "version_major": 2,
       "version_minor": 0
      },
      "text/plain": [
       "  0%|          | 0/200 [00:00<?, ?it/s]"
      ]
     },
     "metadata": {},
     "output_type": "display_data"
    },
    {
     "data": {
      "application/vnd.jupyter.widget-view+json": {
       "model_id": "a35eafbb64564538a07e36796b842c6a",
       "version_major": 2,
       "version_minor": 0
      },
      "text/plain": [
       "  0%|          | 0/200 [00:00<?, ?it/s]"
      ]
     },
     "metadata": {},
     "output_type": "display_data"
    },
    {
     "data": {
      "application/vnd.jupyter.widget-view+json": {
       "model_id": "a2aca9727b13449eb2f589777b868166",
       "version_major": 2,
       "version_minor": 0
      },
      "text/plain": [
       "  0%|          | 0/200 [00:00<?, ?it/s]"
      ]
     },
     "metadata": {},
     "output_type": "display_data"
    },
    {
     "data": {
      "application/vnd.jupyter.widget-view+json": {
       "model_id": "f3d1f89bf96e4b6f8f113e1dad06cc9b",
       "version_major": 2,
       "version_minor": 0
      },
      "text/plain": [
       "  0%|          | 0/200 [00:00<?, ?it/s]"
      ]
     },
     "metadata": {},
     "output_type": "display_data"
    },
    {
     "data": {
      "application/vnd.jupyter.widget-view+json": {
       "model_id": "4ac04f2ebb4f45acbcc9785259ffce71",
       "version_major": 2,
       "version_minor": 0
      },
      "text/plain": [
       "  0%|          | 0/200 [00:00<?, ?it/s]"
      ]
     },
     "metadata": {},
     "output_type": "display_data"
    },
    {
     "data": {
      "application/vnd.jupyter.widget-view+json": {
       "model_id": "8d7b320dcd454f55916d0dda0140614e",
       "version_major": 2,
       "version_minor": 0
      },
      "text/plain": [
       "  0%|          | 0/200 [00:00<?, ?it/s]"
      ]
     },
     "metadata": {},
     "output_type": "display_data"
    },
    {
     "data": {
      "application/vnd.jupyter.widget-view+json": {
       "model_id": "685ff9e1afa3488bb9ed6f8f78327c14",
       "version_major": 2,
       "version_minor": 0
      },
      "text/plain": [
       "  0%|          | 0/200 [00:00<?, ?it/s]"
      ]
     },
     "metadata": {},
     "output_type": "display_data"
    },
    {
     "data": {
      "application/vnd.jupyter.widget-view+json": {
       "model_id": "4cca13ccb4ca4b28a4e13496115ac5fb",
       "version_major": 2,
       "version_minor": 0
      },
      "text/plain": [
       "  0%|          | 0/200 [00:00<?, ?it/s]"
      ]
     },
     "metadata": {},
     "output_type": "display_data"
    },
    {
     "data": {
      "application/vnd.jupyter.widget-view+json": {
       "model_id": "0d7744f9364f47228cfa26b05ed1b329",
       "version_major": 2,
       "version_minor": 0
      },
      "text/plain": [
       "  0%|          | 0/200 [00:00<?, ?it/s]"
      ]
     },
     "metadata": {},
     "output_type": "display_data"
    },
    {
     "data": {
      "application/vnd.jupyter.widget-view+json": {
       "model_id": "c83a9e67d22049c3a14d021caa2cce95",
       "version_major": 2,
       "version_minor": 0
      },
      "text/plain": [
       "  0%|          | 0/200 [00:00<?, ?it/s]"
      ]
     },
     "metadata": {},
     "output_type": "display_data"
    },
    {
     "data": {
      "application/vnd.jupyter.widget-view+json": {
       "model_id": "53518005bed94918a94d7c76d27d4b35",
       "version_major": 2,
       "version_minor": 0
      },
      "text/plain": [
       "  0%|          | 0/200 [00:00<?, ?it/s]"
      ]
     },
     "metadata": {},
     "output_type": "display_data"
    },
    {
     "data": {
      "application/vnd.jupyter.widget-view+json": {
       "model_id": "369e6419cd0c4fee85e6e86a40878d39",
       "version_major": 2,
       "version_minor": 0
      },
      "text/plain": [
       "  0%|          | 0/200 [00:00<?, ?it/s]"
      ]
     },
     "metadata": {},
     "output_type": "display_data"
    },
    {
     "data": {
      "application/vnd.jupyter.widget-view+json": {
       "model_id": "1552d118c4c6452ca46f53defc331478",
       "version_major": 2,
       "version_minor": 0
      },
      "text/plain": [
       "  0%|          | 0/200 [00:00<?, ?it/s]"
      ]
     },
     "metadata": {},
     "output_type": "display_data"
    },
    {
     "data": {
      "application/vnd.jupyter.widget-view+json": {
       "model_id": "6490782968b647bc9fd71d682fff1327",
       "version_major": 2,
       "version_minor": 0
      },
      "text/plain": [
       "  0%|          | 0/200 [00:00<?, ?it/s]"
      ]
     },
     "metadata": {},
     "output_type": "display_data"
    },
    {
     "data": {
      "application/vnd.jupyter.widget-view+json": {
       "model_id": "6b973697bdc74e62a13827d50aad00a5",
       "version_major": 2,
       "version_minor": 0
      },
      "text/plain": [
       "  0%|          | 0/200 [00:00<?, ?it/s]"
      ]
     },
     "metadata": {},
     "output_type": "display_data"
    },
    {
     "data": {
      "application/vnd.jupyter.widget-view+json": {
       "model_id": "cdb2470d237b4dd2a307b2726d8ba1da",
       "version_major": 2,
       "version_minor": 0
      },
      "text/plain": [
       "  0%|          | 0/200 [00:00<?, ?it/s]"
      ]
     },
     "metadata": {},
     "output_type": "display_data"
    },
    {
     "data": {
      "application/vnd.jupyter.widget-view+json": {
       "model_id": "f479992ffbc44720be877a43a5e1ece3",
       "version_major": 2,
       "version_minor": 0
      },
      "text/plain": [
       "  0%|          | 0/200 [00:00<?, ?it/s]"
      ]
     },
     "metadata": {},
     "output_type": "display_data"
    },
    {
     "data": {
      "application/vnd.jupyter.widget-view+json": {
       "model_id": "3123b63e17e7411c95142ae6f9e3f489",
       "version_major": 2,
       "version_minor": 0
      },
      "text/plain": [
       "  0%|          | 0/200 [00:00<?, ?it/s]"
      ]
     },
     "metadata": {},
     "output_type": "display_data"
    },
    {
     "data": {
      "application/vnd.jupyter.widget-view+json": {
       "model_id": "44358caf42064fbf9babe218ce4aa010",
       "version_major": 2,
       "version_minor": 0
      },
      "text/plain": [
       "  0%|          | 0/200 [00:00<?, ?it/s]"
      ]
     },
     "metadata": {},
     "output_type": "display_data"
    },
    {
     "data": {
      "application/vnd.jupyter.widget-view+json": {
       "model_id": "f6f09e740e59444ea794630784d2e6f1",
       "version_major": 2,
       "version_minor": 0
      },
      "text/plain": [
       "  0%|          | 0/200 [00:00<?, ?it/s]"
      ]
     },
     "metadata": {},
     "output_type": "display_data"
    },
    {
     "data": {
      "application/vnd.jupyter.widget-view+json": {
       "model_id": "a787df1c4f974337bb1e07ad3d76f062",
       "version_major": 2,
       "version_minor": 0
      },
      "text/plain": [
       "  0%|          | 0/200 [00:00<?, ?it/s]"
      ]
     },
     "metadata": {},
     "output_type": "display_data"
    },
    {
     "data": {
      "application/vnd.jupyter.widget-view+json": {
       "model_id": "897a52122a4c4917ab00c1a85a3d1b88",
       "version_major": 2,
       "version_minor": 0
      },
      "text/plain": [
       "  0%|          | 0/200 [00:00<?, ?it/s]"
      ]
     },
     "metadata": {},
     "output_type": "display_data"
    },
    {
     "data": {
      "application/vnd.jupyter.widget-view+json": {
       "model_id": "449386a46e9b48aa942bfc62cd660cd6",
       "version_major": 2,
       "version_minor": 0
      },
      "text/plain": [
       "  0%|          | 0/200 [00:00<?, ?it/s]"
      ]
     },
     "metadata": {},
     "output_type": "display_data"
    },
    {
     "data": {
      "application/vnd.jupyter.widget-view+json": {
       "model_id": "af5ca78020564a36ab5fc6430d8dcd07",
       "version_major": 2,
       "version_minor": 0
      },
      "text/plain": [
       "  0%|          | 0/200 [00:00<?, ?it/s]"
      ]
     },
     "metadata": {},
     "output_type": "display_data"
    },
    {
     "data": {
      "application/vnd.jupyter.widget-view+json": {
       "model_id": "425ad65375bd41e996a3132a442bb78c",
       "version_major": 2,
       "version_minor": 0
      },
      "text/plain": [
       "  0%|          | 0/200 [00:00<?, ?it/s]"
      ]
     },
     "metadata": {},
     "output_type": "display_data"
    },
    {
     "data": {
      "application/vnd.jupyter.widget-view+json": {
       "model_id": "70fc3aebf3e94f4aaac216714ead7513",
       "version_major": 2,
       "version_minor": 0
      },
      "text/plain": [
       "  0%|          | 0/200 [00:00<?, ?it/s]"
      ]
     },
     "metadata": {},
     "output_type": "display_data"
    },
    {
     "data": {
      "application/vnd.jupyter.widget-view+json": {
       "model_id": "356e215015a2441eaa98caf47251041e",
       "version_major": 2,
       "version_minor": 0
      },
      "text/plain": [
       "  0%|          | 0/200 [00:00<?, ?it/s]"
      ]
     },
     "metadata": {},
     "output_type": "display_data"
    },
    {
     "data": {
      "application/vnd.jupyter.widget-view+json": {
       "model_id": "31dc7dd83b594d5abe60f3239a9a2d67",
       "version_major": 2,
       "version_minor": 0
      },
      "text/plain": [
       "  0%|          | 0/200 [00:00<?, ?it/s]"
      ]
     },
     "metadata": {},
     "output_type": "display_data"
    },
    {
     "data": {
      "application/vnd.jupyter.widget-view+json": {
       "model_id": "1df9ced0ef364bb58fad06c29d71efd9",
       "version_major": 2,
       "version_minor": 0
      },
      "text/plain": [
       "  0%|          | 0/200 [00:00<?, ?it/s]"
      ]
     },
     "metadata": {},
     "output_type": "display_data"
    },
    {
     "data": {
      "application/vnd.jupyter.widget-view+json": {
       "model_id": "fa2afc11301e49319f84be94358b6124",
       "version_major": 2,
       "version_minor": 0
      },
      "text/plain": [
       "  0%|          | 0/200 [00:00<?, ?it/s]"
      ]
     },
     "metadata": {},
     "output_type": "display_data"
    },
    {
     "data": {
      "application/vnd.jupyter.widget-view+json": {
       "model_id": "a0758cf13d1e46abae9442f5c469d523",
       "version_major": 2,
       "version_minor": 0
      },
      "text/plain": [
       "  0%|          | 0/200 [00:00<?, ?it/s]"
      ]
     },
     "metadata": {},
     "output_type": "display_data"
    },
    {
     "data": {
      "application/vnd.jupyter.widget-view+json": {
       "model_id": "264b5d46b99349c9ae2781dfe8ffb5ad",
       "version_major": 2,
       "version_minor": 0
      },
      "text/plain": [
       "  0%|          | 0/200 [00:00<?, ?it/s]"
      ]
     },
     "metadata": {},
     "output_type": "display_data"
    },
    {
     "data": {
      "application/vnd.jupyter.widget-view+json": {
       "model_id": "429eb0645108447f9aa983321b94399f",
       "version_major": 2,
       "version_minor": 0
      },
      "text/plain": [
       "  0%|          | 0/200 [00:00<?, ?it/s]"
      ]
     },
     "metadata": {},
     "output_type": "display_data"
    },
    {
     "data": {
      "application/vnd.jupyter.widget-view+json": {
       "model_id": "55a9e6822c0e4ce68f87f4a1bb885a11",
       "version_major": 2,
       "version_minor": 0
      },
      "text/plain": [
       "  0%|          | 0/200 [00:00<?, ?it/s]"
      ]
     },
     "metadata": {},
     "output_type": "display_data"
    },
    {
     "data": {
      "application/vnd.jupyter.widget-view+json": {
       "model_id": "9c112fcc375d44ee8463dc051e3e25e1",
       "version_major": 2,
       "version_minor": 0
      },
      "text/plain": [
       "  0%|          | 0/200 [00:00<?, ?it/s]"
      ]
     },
     "metadata": {},
     "output_type": "display_data"
    },
    {
     "data": {
      "application/vnd.jupyter.widget-view+json": {
       "model_id": "a8b0f12330ad4bb1a6d2fa94cd19b578",
       "version_major": 2,
       "version_minor": 0
      },
      "text/plain": [
       "  0%|          | 0/200 [00:00<?, ?it/s]"
      ]
     },
     "metadata": {},
     "output_type": "display_data"
    },
    {
     "data": {
      "application/vnd.jupyter.widget-view+json": {
       "model_id": "4824f4faea5346cfa693cf281411f74d",
       "version_major": 2,
       "version_minor": 0
      },
      "text/plain": [
       "  0%|          | 0/200 [00:00<?, ?it/s]"
      ]
     },
     "metadata": {},
     "output_type": "display_data"
    },
    {
     "data": {
      "application/vnd.jupyter.widget-view+json": {
       "model_id": "bad1e5dc9459411fa150854bff43338e",
       "version_major": 2,
       "version_minor": 0
      },
      "text/plain": [
       "  0%|          | 0/200 [00:00<?, ?it/s]"
      ]
     },
     "metadata": {},
     "output_type": "display_data"
    },
    {
     "data": {
      "application/vnd.jupyter.widget-view+json": {
       "model_id": "9b38d8b313db4ff9a47168fac29039c8",
       "version_major": 2,
       "version_minor": 0
      },
      "text/plain": [
       "  0%|          | 0/200 [00:00<?, ?it/s]"
      ]
     },
     "metadata": {},
     "output_type": "display_data"
    },
    {
     "data": {
      "application/vnd.jupyter.widget-view+json": {
       "model_id": "7365f96d0fc4406bb7dd2adb464a918e",
       "version_major": 2,
       "version_minor": 0
      },
      "text/plain": [
       "  0%|          | 0/200 [00:00<?, ?it/s]"
      ]
     },
     "metadata": {},
     "output_type": "display_data"
    },
    {
     "data": {
      "application/vnd.jupyter.widget-view+json": {
       "model_id": "5fb747169ec54950a99cc9bab2ff3dc2",
       "version_major": 2,
       "version_minor": 0
      },
      "text/plain": [
       "  0%|          | 0/200 [00:00<?, ?it/s]"
      ]
     },
     "metadata": {},
     "output_type": "display_data"
    },
    {
     "data": {
      "application/vnd.jupyter.widget-view+json": {
       "model_id": "ac317a012b214d638cbffd525fc22a43",
       "version_major": 2,
       "version_minor": 0
      },
      "text/plain": [
       "  0%|          | 0/200 [00:00<?, ?it/s]"
      ]
     },
     "metadata": {},
     "output_type": "display_data"
    },
    {
     "data": {
      "application/vnd.jupyter.widget-view+json": {
       "model_id": "5627c22b5d734030b194fe6f12917aaf",
       "version_major": 2,
       "version_minor": 0
      },
      "text/plain": [
       "  0%|          | 0/200 [00:00<?, ?it/s]"
      ]
     },
     "metadata": {},
     "output_type": "display_data"
    },
    {
     "data": {
      "application/vnd.jupyter.widget-view+json": {
       "model_id": "38f2665baf884bf08cb81d153869fad1",
       "version_major": 2,
       "version_minor": 0
      },
      "text/plain": [
       "  0%|          | 0/200 [00:00<?, ?it/s]"
      ]
     },
     "metadata": {},
     "output_type": "display_data"
    },
    {
     "data": {
      "application/vnd.jupyter.widget-view+json": {
       "model_id": "df91c6be6b86465581e047fcd3294d03",
       "version_major": 2,
       "version_minor": 0
      },
      "text/plain": [
       "  0%|          | 0/200 [00:00<?, ?it/s]"
      ]
     },
     "metadata": {},
     "output_type": "display_data"
    },
    {
     "data": {
      "application/vnd.jupyter.widget-view+json": {
       "model_id": "70cccf2ba2c346e3948835764828b3f4",
       "version_major": 2,
       "version_minor": 0
      },
      "text/plain": [
       "  0%|          | 0/200 [00:00<?, ?it/s]"
      ]
     },
     "metadata": {},
     "output_type": "display_data"
    },
    {
     "data": {
      "application/vnd.jupyter.widget-view+json": {
       "model_id": "61f568c03ff14eb5a2089cae54d4a2f8",
       "version_major": 2,
       "version_minor": 0
      },
      "text/plain": [
       "  0%|          | 0/200 [00:00<?, ?it/s]"
      ]
     },
     "metadata": {},
     "output_type": "display_data"
    },
    {
     "data": {
      "application/vnd.jupyter.widget-view+json": {
       "model_id": "44f1464138e8449bbfb3780da06579ec",
       "version_major": 2,
       "version_minor": 0
      },
      "text/plain": [
       "  0%|          | 0/200 [00:00<?, ?it/s]"
      ]
     },
     "metadata": {},
     "output_type": "display_data"
    },
    {
     "data": {
      "application/vnd.jupyter.widget-view+json": {
       "model_id": "e2706027b32749bda0a9ba020e886c0e",
       "version_major": 2,
       "version_minor": 0
      },
      "text/plain": [
       "  0%|          | 0/200 [00:00<?, ?it/s]"
      ]
     },
     "metadata": {},
     "output_type": "display_data"
    },
    {
     "data": {
      "application/vnd.jupyter.widget-view+json": {
       "model_id": "49e93b48ddca473197b26b60ec8f0ca8",
       "version_major": 2,
       "version_minor": 0
      },
      "text/plain": [
       "  0%|          | 0/200 [00:00<?, ?it/s]"
      ]
     },
     "metadata": {},
     "output_type": "display_data"
    },
    {
     "data": {
      "application/vnd.jupyter.widget-view+json": {
       "model_id": "02a28a84d6014f94a5b4e6a66b49f1b1",
       "version_major": 2,
       "version_minor": 0
      },
      "text/plain": [
       "  0%|          | 0/200 [00:00<?, ?it/s]"
      ]
     },
     "metadata": {},
     "output_type": "display_data"
    },
    {
     "data": {
      "application/vnd.jupyter.widget-view+json": {
       "model_id": "c570e95b8215499dabbe74d9ca9100f2",
       "version_major": 2,
       "version_minor": 0
      },
      "text/plain": [
       "  0%|          | 0/200 [00:00<?, ?it/s]"
      ]
     },
     "metadata": {},
     "output_type": "display_data"
    },
    {
     "data": {
      "application/vnd.jupyter.widget-view+json": {
       "model_id": "36808353346843ca84bb1fbd44fdc77f",
       "version_major": 2,
       "version_minor": 0
      },
      "text/plain": [
       "  0%|          | 0/200 [00:00<?, ?it/s]"
      ]
     },
     "metadata": {},
     "output_type": "display_data"
    },
    {
     "data": {
      "application/vnd.jupyter.widget-view+json": {
       "model_id": "2a9367a726e1432a90b92af2a9de68aa",
       "version_major": 2,
       "version_minor": 0
      },
      "text/plain": [
       "  0%|          | 0/200 [00:00<?, ?it/s]"
      ]
     },
     "metadata": {},
     "output_type": "display_data"
    },
    {
     "data": {
      "application/vnd.jupyter.widget-view+json": {
       "model_id": "3009f8d75db54cdf8bee87d2eb5eb108",
       "version_major": 2,
       "version_minor": 0
      },
      "text/plain": [
       "  0%|          | 0/200 [00:00<?, ?it/s]"
      ]
     },
     "metadata": {},
     "output_type": "display_data"
    },
    {
     "data": {
      "application/vnd.jupyter.widget-view+json": {
       "model_id": "0c35f46a7273473fa442ecb32ae32144",
       "version_major": 2,
       "version_minor": 0
      },
      "text/plain": [
       "  0%|          | 0/200 [00:00<?, ?it/s]"
      ]
     },
     "metadata": {},
     "output_type": "display_data"
    },
    {
     "data": {
      "application/vnd.jupyter.widget-view+json": {
       "model_id": "27bf6dc20c0e4a4fad930692a78fe2e0",
       "version_major": 2,
       "version_minor": 0
      },
      "text/plain": [
       "  0%|          | 0/200 [00:00<?, ?it/s]"
      ]
     },
     "metadata": {},
     "output_type": "display_data"
    },
    {
     "data": {
      "application/vnd.jupyter.widget-view+json": {
       "model_id": "bd9efc1d8eb34136a04483f8694d5448",
       "version_major": 2,
       "version_minor": 0
      },
      "text/plain": [
       "  0%|          | 0/200 [00:00<?, ?it/s]"
      ]
     },
     "metadata": {},
     "output_type": "display_data"
    },
    {
     "data": {
      "application/vnd.jupyter.widget-view+json": {
       "model_id": "533ccaeb18e942ecbbef1e9b9cc0f57f",
       "version_major": 2,
       "version_minor": 0
      },
      "text/plain": [
       "  0%|          | 0/200 [00:00<?, ?it/s]"
      ]
     },
     "metadata": {},
     "output_type": "display_data"
    },
    {
     "data": {
      "application/vnd.jupyter.widget-view+json": {
       "model_id": "b40ab654796341539433c1040313705f",
       "version_major": 2,
       "version_minor": 0
      },
      "text/plain": [
       "  0%|          | 0/200 [00:00<?, ?it/s]"
      ]
     },
     "metadata": {},
     "output_type": "display_data"
    },
    {
     "data": {
      "application/vnd.jupyter.widget-view+json": {
       "model_id": "a294ae5aef17414ba4566cead7b864f3",
       "version_major": 2,
       "version_minor": 0
      },
      "text/plain": [
       "  0%|          | 0/200 [00:00<?, ?it/s]"
      ]
     },
     "metadata": {},
     "output_type": "display_data"
    },
    {
     "data": {
      "application/vnd.jupyter.widget-view+json": {
       "model_id": "4bae4a5788014a27acdf8082f32e6acc",
       "version_major": 2,
       "version_minor": 0
      },
      "text/plain": [
       "  0%|          | 0/200 [00:00<?, ?it/s]"
      ]
     },
     "metadata": {},
     "output_type": "display_data"
    },
    {
     "data": {
      "application/vnd.jupyter.widget-view+json": {
       "model_id": "fc49d011d79c4eea86b428a390ce54ff",
       "version_major": 2,
       "version_minor": 0
      },
      "text/plain": [
       "  0%|          | 0/200 [00:00<?, ?it/s]"
      ]
     },
     "metadata": {},
     "output_type": "display_data"
    },
    {
     "data": {
      "application/vnd.jupyter.widget-view+json": {
       "model_id": "86490efeefd24e42b15727492835a545",
       "version_major": 2,
       "version_minor": 0
      },
      "text/plain": [
       "  0%|          | 0/200 [00:00<?, ?it/s]"
      ]
     },
     "metadata": {},
     "output_type": "display_data"
    },
    {
     "data": {
      "application/vnd.jupyter.widget-view+json": {
       "model_id": "e3ecffc3f71d4f51ac93fa91e2b5fe2e",
       "version_major": 2,
       "version_minor": 0
      },
      "text/plain": [
       "  0%|          | 0/200 [00:00<?, ?it/s]"
      ]
     },
     "metadata": {},
     "output_type": "display_data"
    },
    {
     "data": {
      "application/vnd.jupyter.widget-view+json": {
       "model_id": "339b32ca405f42b49ca88e7a99cf8fd4",
       "version_major": 2,
       "version_minor": 0
      },
      "text/plain": [
       "  0%|          | 0/200 [00:00<?, ?it/s]"
      ]
     },
     "metadata": {},
     "output_type": "display_data"
    },
    {
     "data": {
      "application/vnd.jupyter.widget-view+json": {
       "model_id": "2a78ce0fb5244a6e813510cac6216e50",
       "version_major": 2,
       "version_minor": 0
      },
      "text/plain": [
       "  0%|          | 0/200 [00:00<?, ?it/s]"
      ]
     },
     "metadata": {},
     "output_type": "display_data"
    },
    {
     "data": {
      "application/vnd.jupyter.widget-view+json": {
       "model_id": "d83a90bab38f457192d913eaa900d474",
       "version_major": 2,
       "version_minor": 0
      },
      "text/plain": [
       "  0%|          | 0/200 [00:00<?, ?it/s]"
      ]
     },
     "metadata": {},
     "output_type": "display_data"
    },
    {
     "data": {
      "application/vnd.jupyter.widget-view+json": {
       "model_id": "774b68a7740344898ee02e7863d47bab",
       "version_major": 2,
       "version_minor": 0
      },
      "text/plain": [
       "  0%|          | 0/200 [00:00<?, ?it/s]"
      ]
     },
     "metadata": {},
     "output_type": "display_data"
    },
    {
     "data": {
      "application/vnd.jupyter.widget-view+json": {
       "model_id": "85964ae606b4468d907df310404f58f1",
       "version_major": 2,
       "version_minor": 0
      },
      "text/plain": [
       "  0%|          | 0/200 [00:00<?, ?it/s]"
      ]
     },
     "metadata": {},
     "output_type": "display_data"
    },
    {
     "data": {
      "application/vnd.jupyter.widget-view+json": {
       "model_id": "0b7025cb327c4688925c2687e8503d20",
       "version_major": 2,
       "version_minor": 0
      },
      "text/plain": [
       "  0%|          | 0/200 [00:00<?, ?it/s]"
      ]
     },
     "metadata": {},
     "output_type": "display_data"
    },
    {
     "data": {
      "application/vnd.jupyter.widget-view+json": {
       "model_id": "3cceb6ce6f9545869a82a806204d908c",
       "version_major": 2,
       "version_minor": 0
      },
      "text/plain": [
       "  0%|          | 0/200 [00:00<?, ?it/s]"
      ]
     },
     "metadata": {},
     "output_type": "display_data"
    },
    {
     "data": {
      "application/vnd.jupyter.widget-view+json": {
       "model_id": "c4387b0dfb1748ee9cb41315521edb30",
       "version_major": 2,
       "version_minor": 0
      },
      "text/plain": [
       "  0%|          | 0/200 [00:00<?, ?it/s]"
      ]
     },
     "metadata": {},
     "output_type": "display_data"
    },
    {
     "data": {
      "application/vnd.jupyter.widget-view+json": {
       "model_id": "1f68169e9f544fbead4b95812b4bcd7a",
       "version_major": 2,
       "version_minor": 0
      },
      "text/plain": [
       "  0%|          | 0/200 [00:00<?, ?it/s]"
      ]
     },
     "metadata": {},
     "output_type": "display_data"
    },
    {
     "data": {
      "application/vnd.jupyter.widget-view+json": {
       "model_id": "9d325af1da0a4168b9c8ba42c91f786d",
       "version_major": 2,
       "version_minor": 0
      },
      "text/plain": [
       "  0%|          | 0/200 [00:00<?, ?it/s]"
      ]
     },
     "metadata": {},
     "output_type": "display_data"
    },
    {
     "data": {
      "application/vnd.jupyter.widget-view+json": {
       "model_id": "ea3f5c6ac1e045589c39e6da5d928bde",
       "version_major": 2,
       "version_minor": 0
      },
      "text/plain": [
       "  0%|          | 0/200 [00:00<?, ?it/s]"
      ]
     },
     "metadata": {},
     "output_type": "display_data"
    },
    {
     "data": {
      "application/vnd.jupyter.widget-view+json": {
       "model_id": "7a7b9a79546441adb41a8f1d3ab62735",
       "version_major": 2,
       "version_minor": 0
      },
      "text/plain": [
       "  0%|          | 0/200 [00:00<?, ?it/s]"
      ]
     },
     "metadata": {},
     "output_type": "display_data"
    },
    {
     "data": {
      "application/vnd.jupyter.widget-view+json": {
       "model_id": "10e916fb02114d9484a6cd2300749459",
       "version_major": 2,
       "version_minor": 0
      },
      "text/plain": [
       "  0%|          | 0/200 [00:00<?, ?it/s]"
      ]
     },
     "metadata": {},
     "output_type": "display_data"
    },
    {
     "data": {
      "application/vnd.jupyter.widget-view+json": {
       "model_id": "ea85b9cc5f5f4f369054a79e3f479b34",
       "version_major": 2,
       "version_minor": 0
      },
      "text/plain": [
       "  0%|          | 0/200 [00:00<?, ?it/s]"
      ]
     },
     "metadata": {},
     "output_type": "display_data"
    },
    {
     "data": {
      "application/vnd.jupyter.widget-view+json": {
       "model_id": "fed4da93bdb246edb5441a58042942a6",
       "version_major": 2,
       "version_minor": 0
      },
      "text/plain": [
       "  0%|          | 0/200 [00:00<?, ?it/s]"
      ]
     },
     "metadata": {},
     "output_type": "display_data"
    },
    {
     "data": {
      "application/vnd.jupyter.widget-view+json": {
       "model_id": "08556685036a4089823e64d31fbcd9f9",
       "version_major": 2,
       "version_minor": 0
      },
      "text/plain": [
       "  0%|          | 0/200 [00:00<?, ?it/s]"
      ]
     },
     "metadata": {},
     "output_type": "display_data"
    },
    {
     "data": {
      "application/vnd.jupyter.widget-view+json": {
       "model_id": "1282e20f2e8941d5b8d277f575892c80",
       "version_major": 2,
       "version_minor": 0
      },
      "text/plain": [
       "  0%|          | 0/200 [00:00<?, ?it/s]"
      ]
     },
     "metadata": {},
     "output_type": "display_data"
    },
    {
     "data": {
      "application/vnd.jupyter.widget-view+json": {
       "model_id": "3cdc259d4a814290b3e3f6b6a2285117",
       "version_major": 2,
       "version_minor": 0
      },
      "text/plain": [
       "  0%|          | 0/200 [00:00<?, ?it/s]"
      ]
     },
     "metadata": {},
     "output_type": "display_data"
    },
    {
     "data": {
      "application/vnd.jupyter.widget-view+json": {
       "model_id": "d5323be67c1d4be6b25335c2511873ff",
       "version_major": 2,
       "version_minor": 0
      },
      "text/plain": [
       "  0%|          | 0/200 [00:00<?, ?it/s]"
      ]
     },
     "metadata": {},
     "output_type": "display_data"
    },
    {
     "data": {
      "application/vnd.jupyter.widget-view+json": {
       "model_id": "0b68d6ba0c3a47d2b6c0744f7498427d",
       "version_major": 2,
       "version_minor": 0
      },
      "text/plain": [
       "  0%|          | 0/200 [00:00<?, ?it/s]"
      ]
     },
     "metadata": {},
     "output_type": "display_data"
    },
    {
     "data": {
      "application/vnd.jupyter.widget-view+json": {
       "model_id": "06db5abf09d047cda9fd03c462fe5209",
       "version_major": 2,
       "version_minor": 0
      },
      "text/plain": [
       "  0%|          | 0/200 [00:00<?, ?it/s]"
      ]
     },
     "metadata": {},
     "output_type": "display_data"
    },
    {
     "data": {
      "application/vnd.jupyter.widget-view+json": {
       "model_id": "751ebd2111c24af18d30fc95cd0668b9",
       "version_major": 2,
       "version_minor": 0
      },
      "text/plain": [
       "  0%|          | 0/200 [00:00<?, ?it/s]"
      ]
     },
     "metadata": {},
     "output_type": "display_data"
    },
    {
     "data": {
      "application/vnd.jupyter.widget-view+json": {
       "model_id": "a9cdf1bc45a34635bb40de8d94d66c4a",
       "version_major": 2,
       "version_minor": 0
      },
      "text/plain": [
       "  0%|          | 0/200 [00:00<?, ?it/s]"
      ]
     },
     "metadata": {},
     "output_type": "display_data"
    },
    {
     "data": {
      "application/vnd.jupyter.widget-view+json": {
       "model_id": "ad41ba5b1c1d4b49b527051c1916a201",
       "version_major": 2,
       "version_minor": 0
      },
      "text/plain": [
       "  0%|          | 0/200 [00:00<?, ?it/s]"
      ]
     },
     "metadata": {},
     "output_type": "display_data"
    },
    {
     "data": {
      "application/vnd.jupyter.widget-view+json": {
       "model_id": "80741cc0fe764a12b0b190fef57b2fa5",
       "version_major": 2,
       "version_minor": 0
      },
      "text/plain": [
       "  0%|          | 0/200 [00:00<?, ?it/s]"
      ]
     },
     "metadata": {},
     "output_type": "display_data"
    },
    {
     "data": {
      "application/vnd.jupyter.widget-view+json": {
       "model_id": "9238b1ef8a6446f9aec34d6066c4f008",
       "version_major": 2,
       "version_minor": 0
      },
      "text/plain": [
       "  0%|          | 0/200 [00:00<?, ?it/s]"
      ]
     },
     "metadata": {},
     "output_type": "display_data"
    },
    {
     "data": {
      "application/vnd.jupyter.widget-view+json": {
       "model_id": "d436d23baa6d47ebaf9742e7e5c8b8bb",
       "version_major": 2,
       "version_minor": 0
      },
      "text/plain": [
       "  0%|          | 0/200 [00:00<?, ?it/s]"
      ]
     },
     "metadata": {},
     "output_type": "display_data"
    },
    {
     "data": {
      "application/vnd.jupyter.widget-view+json": {
       "model_id": "de37f9530b534d70a3c6883c89ee72dc",
       "version_major": 2,
       "version_minor": 0
      },
      "text/plain": [
       "  0%|          | 0/200 [00:00<?, ?it/s]"
      ]
     },
     "metadata": {},
     "output_type": "display_data"
    },
    {
     "data": {
      "application/vnd.jupyter.widget-view+json": {
       "model_id": "a52821323b20408c9b4b7f7f0e1a1ef7",
       "version_major": 2,
       "version_minor": 0
      },
      "text/plain": [
       "  0%|          | 0/200 [00:00<?, ?it/s]"
      ]
     },
     "metadata": {},
     "output_type": "display_data"
    },
    {
     "data": {
      "application/vnd.jupyter.widget-view+json": {
       "model_id": "408a7be4e272411baa12cd7eddc3f107",
       "version_major": 2,
       "version_minor": 0
      },
      "text/plain": [
       "  0%|          | 0/200 [00:00<?, ?it/s]"
      ]
     },
     "metadata": {},
     "output_type": "display_data"
    },
    {
     "data": {
      "application/vnd.jupyter.widget-view+json": {
       "model_id": "6208390569a244beb0721539ad676fd2",
       "version_major": 2,
       "version_minor": 0
      },
      "text/plain": [
       "  0%|          | 0/200 [00:00<?, ?it/s]"
      ]
     },
     "metadata": {},
     "output_type": "display_data"
    },
    {
     "data": {
      "application/vnd.jupyter.widget-view+json": {
       "model_id": "801a8d65f26c47ec8053e36fd41061af",
       "version_major": 2,
       "version_minor": 0
      },
      "text/plain": [
       "  0%|          | 0/200 [00:00<?, ?it/s]"
      ]
     },
     "metadata": {},
     "output_type": "display_data"
    },
    {
     "data": {
      "application/vnd.jupyter.widget-view+json": {
       "model_id": "bd74225b3d2c4a05a2f8742a084396e0",
       "version_major": 2,
       "version_minor": 0
      },
      "text/plain": [
       "  0%|          | 0/200 [00:00<?, ?it/s]"
      ]
     },
     "metadata": {},
     "output_type": "display_data"
    },
    {
     "data": {
      "application/vnd.jupyter.widget-view+json": {
       "model_id": "d40b54975e4e4b9090207635501804c5",
       "version_major": 2,
       "version_minor": 0
      },
      "text/plain": [
       "  0%|          | 0/200 [00:00<?, ?it/s]"
      ]
     },
     "metadata": {},
     "output_type": "display_data"
    },
    {
     "data": {
      "application/vnd.jupyter.widget-view+json": {
       "model_id": "1e14d2ee7db74299b5e9c0fabc45da1e",
       "version_major": 2,
       "version_minor": 0
      },
      "text/plain": [
       "  0%|          | 0/200 [00:00<?, ?it/s]"
      ]
     },
     "metadata": {},
     "output_type": "display_data"
    },
    {
     "data": {
      "application/vnd.jupyter.widget-view+json": {
       "model_id": "c656369e64d64e8ab67e8559b23d8c7f",
       "version_major": 2,
       "version_minor": 0
      },
      "text/plain": [
       "  0%|          | 0/200 [00:00<?, ?it/s]"
      ]
     },
     "metadata": {},
     "output_type": "display_data"
    },
    {
     "data": {
      "application/vnd.jupyter.widget-view+json": {
       "model_id": "6d9dd8fb366949d29295d8bfb1d26168",
       "version_major": 2,
       "version_minor": 0
      },
      "text/plain": [
       "  0%|          | 0/200 [00:00<?, ?it/s]"
      ]
     },
     "metadata": {},
     "output_type": "display_data"
    },
    {
     "data": {
      "application/vnd.jupyter.widget-view+json": {
       "model_id": "928db96eacc84e69bfd2793242b49236",
       "version_major": 2,
       "version_minor": 0
      },
      "text/plain": [
       "  0%|          | 0/200 [00:00<?, ?it/s]"
      ]
     },
     "metadata": {},
     "output_type": "display_data"
    },
    {
     "data": {
      "application/vnd.jupyter.widget-view+json": {
       "model_id": "7bba8456ea654c90b6c9b3daa766c6bc",
       "version_major": 2,
       "version_minor": 0
      },
      "text/plain": [
       "  0%|          | 0/200 [00:00<?, ?it/s]"
      ]
     },
     "metadata": {},
     "output_type": "display_data"
    },
    {
     "data": {
      "application/vnd.jupyter.widget-view+json": {
       "model_id": "44373e4478144e96af276a31775fc3dd",
       "version_major": 2,
       "version_minor": 0
      },
      "text/plain": [
       "  0%|          | 0/200 [00:00<?, ?it/s]"
      ]
     },
     "metadata": {},
     "output_type": "display_data"
    },
    {
     "data": {
      "application/vnd.jupyter.widget-view+json": {
       "model_id": "485af08f600b48338836a852f3eabdb3",
       "version_major": 2,
       "version_minor": 0
      },
      "text/plain": [
       "  0%|          | 0/200 [00:00<?, ?it/s]"
      ]
     },
     "metadata": {},
     "output_type": "display_data"
    },
    {
     "data": {
      "application/vnd.jupyter.widget-view+json": {
       "model_id": "172ae9f93e2c4a2391a0fb164e95487d",
       "version_major": 2,
       "version_minor": 0
      },
      "text/plain": [
       "  0%|          | 0/200 [00:00<?, ?it/s]"
      ]
     },
     "metadata": {},
     "output_type": "display_data"
    },
    {
     "data": {
      "application/vnd.jupyter.widget-view+json": {
       "model_id": "b779613b94a84012b0c0ff2addd36322",
       "version_major": 2,
       "version_minor": 0
      },
      "text/plain": [
       "  0%|          | 0/200 [00:00<?, ?it/s]"
      ]
     },
     "metadata": {},
     "output_type": "display_data"
    },
    {
     "data": {
      "application/vnd.jupyter.widget-view+json": {
       "model_id": "c5ac9ba3467c43718b96319ce4a2833e",
       "version_major": 2,
       "version_minor": 0
      },
      "text/plain": [
       "0it [00:00, ?it/s]"
      ]
     },
     "metadata": {},
     "output_type": "display_data"
    },
    {
     "data": {
      "application/vnd.jupyter.widget-view+json": {
       "model_id": "a2cfcb680cf54587918dd78f6a6e7c94",
       "version_major": 2,
       "version_minor": 0
      },
      "text/plain": [
       "  0%|          | 0/200 [00:00<?, ?it/s]"
      ]
     },
     "metadata": {},
     "output_type": "display_data"
    },
    {
     "data": {
      "application/vnd.jupyter.widget-view+json": {
       "model_id": "33a4ac55050e4c89b96b51e74ea28399",
       "version_major": 2,
       "version_minor": 0
      },
      "text/plain": [
       "  0%|          | 0/200 [00:00<?, ?it/s]"
      ]
     },
     "metadata": {},
     "output_type": "display_data"
    },
    {
     "data": {
      "application/vnd.jupyter.widget-view+json": {
       "model_id": "643727a280584d0cbd518404cfc345ef",
       "version_major": 2,
       "version_minor": 0
      },
      "text/plain": [
       "  0%|          | 0/200 [00:00<?, ?it/s]"
      ]
     },
     "metadata": {},
     "output_type": "display_data"
    },
    {
     "data": {
      "application/vnd.jupyter.widget-view+json": {
       "model_id": "e1cda5f615a448daa0b0adf08982c160",
       "version_major": 2,
       "version_minor": 0
      },
      "text/plain": [
       "  0%|          | 0/200 [00:00<?, ?it/s]"
      ]
     },
     "metadata": {},
     "output_type": "display_data"
    },
    {
     "data": {
      "application/vnd.jupyter.widget-view+json": {
       "model_id": "c363910ba0bd4587802803c31fe4ccd3",
       "version_major": 2,
       "version_minor": 0
      },
      "text/plain": [
       "  0%|          | 0/200 [00:00<?, ?it/s]"
      ]
     },
     "metadata": {},
     "output_type": "display_data"
    },
    {
     "data": {
      "application/vnd.jupyter.widget-view+json": {
       "model_id": "76e73bf4ec94465385fe3010b937113b",
       "version_major": 2,
       "version_minor": 0
      },
      "text/plain": [
       "  0%|          | 0/200 [00:00<?, ?it/s]"
      ]
     },
     "metadata": {},
     "output_type": "display_data"
    },
    {
     "data": {
      "application/vnd.jupyter.widget-view+json": {
       "model_id": "31d76b0fb3fe4516b25ed3dd99f47b1d",
       "version_major": 2,
       "version_minor": 0
      },
      "text/plain": [
       "  0%|          | 0/200 [00:00<?, ?it/s]"
      ]
     },
     "metadata": {},
     "output_type": "display_data"
    },
    {
     "data": {
      "application/vnd.jupyter.widget-view+json": {
       "model_id": "0a2a6ace8b124ebcb8075c36e4309f0a",
       "version_major": 2,
       "version_minor": 0
      },
      "text/plain": [
       "  0%|          | 0/200 [00:00<?, ?it/s]"
      ]
     },
     "metadata": {},
     "output_type": "display_data"
    },
    {
     "data": {
      "application/vnd.jupyter.widget-view+json": {
       "model_id": "48cbe46bf10248dab97a7ce906f3eb9f",
       "version_major": 2,
       "version_minor": 0
      },
      "text/plain": [
       "  0%|          | 0/200 [00:00<?, ?it/s]"
      ]
     },
     "metadata": {},
     "output_type": "display_data"
    },
    {
     "data": {
      "application/vnd.jupyter.widget-view+json": {
       "model_id": "9e0b7fe0854b47c5b14e99d6f899d0eb",
       "version_major": 2,
       "version_minor": 0
      },
      "text/plain": [
       "  0%|          | 0/200 [00:00<?, ?it/s]"
      ]
     },
     "metadata": {},
     "output_type": "display_data"
    },
    {
     "data": {
      "application/vnd.jupyter.widget-view+json": {
       "model_id": "9ce38aab108743e89b26e3162e80f62d",
       "version_major": 2,
       "version_minor": 0
      },
      "text/plain": [
       "  0%|          | 0/200 [00:00<?, ?it/s]"
      ]
     },
     "metadata": {},
     "output_type": "display_data"
    },
    {
     "data": {
      "application/vnd.jupyter.widget-view+json": {
       "model_id": "f5d2aa9d711b4b678b9cdc775484ddf9",
       "version_major": 2,
       "version_minor": 0
      },
      "text/plain": [
       "  0%|          | 0/200 [00:00<?, ?it/s]"
      ]
     },
     "metadata": {},
     "output_type": "display_data"
    },
    {
     "data": {
      "application/vnd.jupyter.widget-view+json": {
       "model_id": "4e66df3975d64738b9ea8b302d4b14e2",
       "version_major": 2,
       "version_minor": 0
      },
      "text/plain": [
       "  0%|          | 0/200 [00:00<?, ?it/s]"
      ]
     },
     "metadata": {},
     "output_type": "display_data"
    },
    {
     "data": {
      "application/vnd.jupyter.widget-view+json": {
       "model_id": "604d3ce207de45f9b1459f69d08056a8",
       "version_major": 2,
       "version_minor": 0
      },
      "text/plain": [
       "  0%|          | 0/200 [00:00<?, ?it/s]"
      ]
     },
     "metadata": {},
     "output_type": "display_data"
    },
    {
     "data": {
      "application/vnd.jupyter.widget-view+json": {
       "model_id": "78cb4ca33f5845eba47c38735d2f2691",
       "version_major": 2,
       "version_minor": 0
      },
      "text/plain": [
       "  0%|          | 0/200 [00:00<?, ?it/s]"
      ]
     },
     "metadata": {},
     "output_type": "display_data"
    },
    {
     "data": {
      "application/vnd.jupyter.widget-view+json": {
       "model_id": "91b96022bf7345039c404b644a832701",
       "version_major": 2,
       "version_minor": 0
      },
      "text/plain": [
       "  0%|          | 0/200 [00:00<?, ?it/s]"
      ]
     },
     "metadata": {},
     "output_type": "display_data"
    },
    {
     "data": {
      "application/vnd.jupyter.widget-view+json": {
       "model_id": "6527b10ae00b48beb82e4268bc9298e6",
       "version_major": 2,
       "version_minor": 0
      },
      "text/plain": [
       "  0%|          | 0/200 [00:00<?, ?it/s]"
      ]
     },
     "metadata": {},
     "output_type": "display_data"
    },
    {
     "data": {
      "application/vnd.jupyter.widget-view+json": {
       "model_id": "3011f3dbaa0d4b6cb8af28462c981a16",
       "version_major": 2,
       "version_minor": 0
      },
      "text/plain": [
       "  0%|          | 0/200 [00:00<?, ?it/s]"
      ]
     },
     "metadata": {},
     "output_type": "display_data"
    },
    {
     "data": {
      "application/vnd.jupyter.widget-view+json": {
       "model_id": "ee66d0bba9254d8ab8a3a490fa0a58c3",
       "version_major": 2,
       "version_minor": 0
      },
      "text/plain": [
       "  0%|          | 0/200 [00:00<?, ?it/s]"
      ]
     },
     "metadata": {},
     "output_type": "display_data"
    },
    {
     "data": {
      "application/vnd.jupyter.widget-view+json": {
       "model_id": "431c23f02c694ce387bacd1a516ed47f",
       "version_major": 2,
       "version_minor": 0
      },
      "text/plain": [
       "  0%|          | 0/200 [00:00<?, ?it/s]"
      ]
     },
     "metadata": {},
     "output_type": "display_data"
    },
    {
     "data": {
      "application/vnd.jupyter.widget-view+json": {
       "model_id": "d5376ca0227c4b4a8f8fe47ce05b1d80",
       "version_major": 2,
       "version_minor": 0
      },
      "text/plain": [
       "  0%|          | 0/200 [00:00<?, ?it/s]"
      ]
     },
     "metadata": {},
     "output_type": "display_data"
    },
    {
     "data": {
      "application/vnd.jupyter.widget-view+json": {
       "model_id": "24e8bf0a30784417a57b6e0f3a3e46d2",
       "version_major": 2,
       "version_minor": 0
      },
      "text/plain": [
       "  0%|          | 0/200 [00:00<?, ?it/s]"
      ]
     },
     "metadata": {},
     "output_type": "display_data"
    },
    {
     "data": {
      "application/vnd.jupyter.widget-view+json": {
       "model_id": "6410750476c0470fa44d41f9cdf02676",
       "version_major": 2,
       "version_minor": 0
      },
      "text/plain": [
       "  0%|          | 0/200 [00:00<?, ?it/s]"
      ]
     },
     "metadata": {},
     "output_type": "display_data"
    },
    {
     "data": {
      "application/vnd.jupyter.widget-view+json": {
       "model_id": "6c0efae6e7e94f108f4ac1700645f9cb",
       "version_major": 2,
       "version_minor": 0
      },
      "text/plain": [
       "  0%|          | 0/200 [00:00<?, ?it/s]"
      ]
     },
     "metadata": {},
     "output_type": "display_data"
    },
    {
     "data": {
      "application/vnd.jupyter.widget-view+json": {
       "model_id": "9a084cb5bf7d46408ad8b3ccc411ad26",
       "version_major": 2,
       "version_minor": 0
      },
      "text/plain": [
       "  0%|          | 0/200 [00:00<?, ?it/s]"
      ]
     },
     "metadata": {},
     "output_type": "display_data"
    },
    {
     "data": {
      "application/vnd.jupyter.widget-view+json": {
       "model_id": "e6646cf1004a4f909dd894298263024c",
       "version_major": 2,
       "version_minor": 0
      },
      "text/plain": [
       "  0%|          | 0/200 [00:00<?, ?it/s]"
      ]
     },
     "metadata": {},
     "output_type": "display_data"
    },
    {
     "data": {
      "application/vnd.jupyter.widget-view+json": {
       "model_id": "022aa286625d4edf8f424a81706612d6",
       "version_major": 2,
       "version_minor": 0
      },
      "text/plain": [
       "  0%|          | 0/200 [00:00<?, ?it/s]"
      ]
     },
     "metadata": {},
     "output_type": "display_data"
    },
    {
     "data": {
      "application/vnd.jupyter.widget-view+json": {
       "model_id": "caf86f9115e34fd9bd3b3185740462b4",
       "version_major": 2,
       "version_minor": 0
      },
      "text/plain": [
       "  0%|          | 0/200 [00:00<?, ?it/s]"
      ]
     },
     "metadata": {},
     "output_type": "display_data"
    },
    {
     "data": {
      "application/vnd.jupyter.widget-view+json": {
       "model_id": "44498c86e867485f85a417f9e888f3e1",
       "version_major": 2,
       "version_minor": 0
      },
      "text/plain": [
       "  0%|          | 0/200 [00:00<?, ?it/s]"
      ]
     },
     "metadata": {},
     "output_type": "display_data"
    },
    {
     "data": {
      "application/vnd.jupyter.widget-view+json": {
       "model_id": "12642ef20d8d431990db6e935012d8a2",
       "version_major": 2,
       "version_minor": 0
      },
      "text/plain": [
       "  0%|          | 0/200 [00:00<?, ?it/s]"
      ]
     },
     "metadata": {},
     "output_type": "display_data"
    },
    {
     "data": {
      "application/vnd.jupyter.widget-view+json": {
       "model_id": "03a48590c880425aa51605868732052f",
       "version_major": 2,
       "version_minor": 0
      },
      "text/plain": [
       "  0%|          | 0/200 [00:00<?, ?it/s]"
      ]
     },
     "metadata": {},
     "output_type": "display_data"
    },
    {
     "data": {
      "application/vnd.jupyter.widget-view+json": {
       "model_id": "95771db201214b7598f930d0e79403dc",
       "version_major": 2,
       "version_minor": 0
      },
      "text/plain": [
       "  0%|          | 0/200 [00:00<?, ?it/s]"
      ]
     },
     "metadata": {},
     "output_type": "display_data"
    },
    {
     "data": {
      "application/vnd.jupyter.widget-view+json": {
       "model_id": "b286552ae60a4619a29e8d6ffba44358",
       "version_major": 2,
       "version_minor": 0
      },
      "text/plain": [
       "  0%|          | 0/200 [00:00<?, ?it/s]"
      ]
     },
     "metadata": {},
     "output_type": "display_data"
    },
    {
     "data": {
      "application/vnd.jupyter.widget-view+json": {
       "model_id": "f3c1846b19314f04b9aec3d89f4c1fae",
       "version_major": 2,
       "version_minor": 0
      },
      "text/plain": [
       "  0%|          | 0/200 [00:00<?, ?it/s]"
      ]
     },
     "metadata": {},
     "output_type": "display_data"
    },
    {
     "data": {
      "application/vnd.jupyter.widget-view+json": {
       "model_id": "cf5db8a6dd804196adaa62acb991d64e",
       "version_major": 2,
       "version_minor": 0
      },
      "text/plain": [
       "  0%|          | 0/200 [00:00<?, ?it/s]"
      ]
     },
     "metadata": {},
     "output_type": "display_data"
    },
    {
     "data": {
      "application/vnd.jupyter.widget-view+json": {
       "model_id": "fb942bcf3d3648538bcbf5b0e4ebf904",
       "version_major": 2,
       "version_minor": 0
      },
      "text/plain": [
       "  0%|          | 0/200 [00:00<?, ?it/s]"
      ]
     },
     "metadata": {},
     "output_type": "display_data"
    },
    {
     "data": {
      "application/vnd.jupyter.widget-view+json": {
       "model_id": "2216c1c58a684b3490a7e07576cc7a4d",
       "version_major": 2,
       "version_minor": 0
      },
      "text/plain": [
       "  0%|          | 0/200 [00:00<?, ?it/s]"
      ]
     },
     "metadata": {},
     "output_type": "display_data"
    },
    {
     "data": {
      "application/vnd.jupyter.widget-view+json": {
       "model_id": "16fa7715073d47b9bc015be0ea336bd8",
       "version_major": 2,
       "version_minor": 0
      },
      "text/plain": [
       "  0%|          | 0/200 [00:00<?, ?it/s]"
      ]
     },
     "metadata": {},
     "output_type": "display_data"
    },
    {
     "data": {
      "application/vnd.jupyter.widget-view+json": {
       "model_id": "bd87b565ef1a4a0bb710665087e96fbf",
       "version_major": 2,
       "version_minor": 0
      },
      "text/plain": [
       "  0%|          | 0/200 [00:00<?, ?it/s]"
      ]
     },
     "metadata": {},
     "output_type": "display_data"
    },
    {
     "data": {
      "application/vnd.jupyter.widget-view+json": {
       "model_id": "5a032b0d48034af7b729a0f8d623f602",
       "version_major": 2,
       "version_minor": 0
      },
      "text/plain": [
       "  0%|          | 0/200 [00:00<?, ?it/s]"
      ]
     },
     "metadata": {},
     "output_type": "display_data"
    },
    {
     "data": {
      "application/vnd.jupyter.widget-view+json": {
       "model_id": "33ce8a6ecb4b4365b07560d89e2c5e32",
       "version_major": 2,
       "version_minor": 0
      },
      "text/plain": [
       "  0%|          | 0/200 [00:00<?, ?it/s]"
      ]
     },
     "metadata": {},
     "output_type": "display_data"
    },
    {
     "data": {
      "application/vnd.jupyter.widget-view+json": {
       "model_id": "71b720ea93734fc9b948565642c25005",
       "version_major": 2,
       "version_minor": 0
      },
      "text/plain": [
       "  0%|          | 0/200 [00:00<?, ?it/s]"
      ]
     },
     "metadata": {},
     "output_type": "display_data"
    },
    {
     "data": {
      "application/vnd.jupyter.widget-view+json": {
       "model_id": "2eeb67e68a3f4462adc8e5deadac8925",
       "version_major": 2,
       "version_minor": 0
      },
      "text/plain": [
       "  0%|          | 0/200 [00:00<?, ?it/s]"
      ]
     },
     "metadata": {},
     "output_type": "display_data"
    },
    {
     "data": {
      "application/vnd.jupyter.widget-view+json": {
       "model_id": "83dcaf9abfed498cac16c69d4c8d7368",
       "version_major": 2,
       "version_minor": 0
      },
      "text/plain": [
       "  0%|          | 0/200 [00:00<?, ?it/s]"
      ]
     },
     "metadata": {},
     "output_type": "display_data"
    },
    {
     "data": {
      "application/vnd.jupyter.widget-view+json": {
       "model_id": "69bdcd859ddb46568f42ed4f2186017c",
       "version_major": 2,
       "version_minor": 0
      },
      "text/plain": [
       "  0%|          | 0/200 [00:00<?, ?it/s]"
      ]
     },
     "metadata": {},
     "output_type": "display_data"
    },
    {
     "data": {
      "application/vnd.jupyter.widget-view+json": {
       "model_id": "33e6b8b8d8274114b4dfac574e0ff779",
       "version_major": 2,
       "version_minor": 0
      },
      "text/plain": [
       "  0%|          | 0/200 [00:00<?, ?it/s]"
      ]
     },
     "metadata": {},
     "output_type": "display_data"
    },
    {
     "data": {
      "application/vnd.jupyter.widget-view+json": {
       "model_id": "835d4d26f46e4673be690b1c19137aa5",
       "version_major": 2,
       "version_minor": 0
      },
      "text/plain": [
       "  0%|          | 0/200 [00:00<?, ?it/s]"
      ]
     },
     "metadata": {},
     "output_type": "display_data"
    },
    {
     "data": {
      "application/vnd.jupyter.widget-view+json": {
       "model_id": "995e98f013ce48c58ab3cb69a808d0af",
       "version_major": 2,
       "version_minor": 0
      },
      "text/plain": [
       "  0%|          | 0/200 [00:00<?, ?it/s]"
      ]
     },
     "metadata": {},
     "output_type": "display_data"
    },
    {
     "data": {
      "application/vnd.jupyter.widget-view+json": {
       "model_id": "56ded7b60653442c9d7f3463bdd40dbe",
       "version_major": 2,
       "version_minor": 0
      },
      "text/plain": [
       "  0%|          | 0/200 [00:00<?, ?it/s]"
      ]
     },
     "metadata": {},
     "output_type": "display_data"
    },
    {
     "data": {
      "application/vnd.jupyter.widget-view+json": {
       "model_id": "6f0e11fdad0b49a69776d9eab2c0ea6f",
       "version_major": 2,
       "version_minor": 0
      },
      "text/plain": [
       "  0%|          | 0/200 [00:00<?, ?it/s]"
      ]
     },
     "metadata": {},
     "output_type": "display_data"
    },
    {
     "data": {
      "application/vnd.jupyter.widget-view+json": {
       "model_id": "363eeecd736b43328344e249d1ea4bf6",
       "version_major": 2,
       "version_minor": 0
      },
      "text/plain": [
       "  0%|          | 0/200 [00:00<?, ?it/s]"
      ]
     },
     "metadata": {},
     "output_type": "display_data"
    },
    {
     "data": {
      "application/vnd.jupyter.widget-view+json": {
       "model_id": "ced318a21ea34eb7916da38dec567e72",
       "version_major": 2,
       "version_minor": 0
      },
      "text/plain": [
       "  0%|          | 0/200 [00:00<?, ?it/s]"
      ]
     },
     "metadata": {},
     "output_type": "display_data"
    },
    {
     "data": {
      "application/vnd.jupyter.widget-view+json": {
       "model_id": "f3dc91b42f6b464d9841a2401f5cfd63",
       "version_major": 2,
       "version_minor": 0
      },
      "text/plain": [
       "  0%|          | 0/200 [00:00<?, ?it/s]"
      ]
     },
     "metadata": {},
     "output_type": "display_data"
    },
    {
     "data": {
      "application/vnd.jupyter.widget-view+json": {
       "model_id": "4f4d05dd469548b38f0cca97b522138d",
       "version_major": 2,
       "version_minor": 0
      },
      "text/plain": [
       "  0%|          | 0/200 [00:00<?, ?it/s]"
      ]
     },
     "metadata": {},
     "output_type": "display_data"
    },
    {
     "data": {
      "application/vnd.jupyter.widget-view+json": {
       "model_id": "0085974cfc8746579d1e1f648780eaf4",
       "version_major": 2,
       "version_minor": 0
      },
      "text/plain": [
       "  0%|          | 0/200 [00:00<?, ?it/s]"
      ]
     },
     "metadata": {},
     "output_type": "display_data"
    },
    {
     "data": {
      "application/vnd.jupyter.widget-view+json": {
       "model_id": "ad1ab80f37eb481996f451598622413f",
       "version_major": 2,
       "version_minor": 0
      },
      "text/plain": [
       "  0%|          | 0/200 [00:00<?, ?it/s]"
      ]
     },
     "metadata": {},
     "output_type": "display_data"
    },
    {
     "data": {
      "application/vnd.jupyter.widget-view+json": {
       "model_id": "dbb91aef6c5d47978fdd3f632238b782",
       "version_major": 2,
       "version_minor": 0
      },
      "text/plain": [
       "  0%|          | 0/200 [00:00<?, ?it/s]"
      ]
     },
     "metadata": {},
     "output_type": "display_data"
    },
    {
     "data": {
      "application/vnd.jupyter.widget-view+json": {
       "model_id": "cb99555722b54d6e81cb59260f4e155e",
       "version_major": 2,
       "version_minor": 0
      },
      "text/plain": [
       "  0%|          | 0/200 [00:00<?, ?it/s]"
      ]
     },
     "metadata": {},
     "output_type": "display_data"
    },
    {
     "data": {
      "application/vnd.jupyter.widget-view+json": {
       "model_id": "acca967d1ef742019e88cb669bde50d6",
       "version_major": 2,
       "version_minor": 0
      },
      "text/plain": [
       "  0%|          | 0/200 [00:00<?, ?it/s]"
      ]
     },
     "metadata": {},
     "output_type": "display_data"
    },
    {
     "data": {
      "application/vnd.jupyter.widget-view+json": {
       "model_id": "dfb78584feab463497dfe3e3f6f3a834",
       "version_major": 2,
       "version_minor": 0
      },
      "text/plain": [
       "  0%|          | 0/200 [00:00<?, ?it/s]"
      ]
     },
     "metadata": {},
     "output_type": "display_data"
    },
    {
     "data": {
      "application/vnd.jupyter.widget-view+json": {
       "model_id": "649655cf20304147a9da45946499ca85",
       "version_major": 2,
       "version_minor": 0
      },
      "text/plain": [
       "  0%|          | 0/200 [00:00<?, ?it/s]"
      ]
     },
     "metadata": {},
     "output_type": "display_data"
    },
    {
     "data": {
      "application/vnd.jupyter.widget-view+json": {
       "model_id": "20458738818b4a5cbdd88808760e8a1e",
       "version_major": 2,
       "version_minor": 0
      },
      "text/plain": [
       "  0%|          | 0/200 [00:00<?, ?it/s]"
      ]
     },
     "metadata": {},
     "output_type": "display_data"
    },
    {
     "data": {
      "application/vnd.jupyter.widget-view+json": {
       "model_id": "9ad7f0c76a714f4398f05f77fb216d0b",
       "version_major": 2,
       "version_minor": 0
      },
      "text/plain": [
       "  0%|          | 0/200 [00:00<?, ?it/s]"
      ]
     },
     "metadata": {},
     "output_type": "display_data"
    },
    {
     "data": {
      "application/vnd.jupyter.widget-view+json": {
       "model_id": "7ff17e8286164430b26d57424c364494",
       "version_major": 2,
       "version_minor": 0
      },
      "text/plain": [
       "  0%|          | 0/200 [00:00<?, ?it/s]"
      ]
     },
     "metadata": {},
     "output_type": "display_data"
    },
    {
     "data": {
      "application/vnd.jupyter.widget-view+json": {
       "model_id": "9c313cc3691d4b6da8b6a52dcc8d0d82",
       "version_major": 2,
       "version_minor": 0
      },
      "text/plain": [
       "  0%|          | 0/200 [00:00<?, ?it/s]"
      ]
     },
     "metadata": {},
     "output_type": "display_data"
    },
    {
     "data": {
      "application/vnd.jupyter.widget-view+json": {
       "model_id": "7720cb7d0b164b08b25fbd0f3ccdb92e",
       "version_major": 2,
       "version_minor": 0
      },
      "text/plain": [
       "  0%|          | 0/200 [00:00<?, ?it/s]"
      ]
     },
     "metadata": {},
     "output_type": "display_data"
    },
    {
     "data": {
      "application/vnd.jupyter.widget-view+json": {
       "model_id": "3fe746b474684243ba3bad3e62a6b838",
       "version_major": 2,
       "version_minor": 0
      },
      "text/plain": [
       "  0%|          | 0/200 [00:00<?, ?it/s]"
      ]
     },
     "metadata": {},
     "output_type": "display_data"
    },
    {
     "data": {
      "application/vnd.jupyter.widget-view+json": {
       "model_id": "53212654c21b431e8fa472667343e5aa",
       "version_major": 2,
       "version_minor": 0
      },
      "text/plain": [
       "  0%|          | 0/200 [00:00<?, ?it/s]"
      ]
     },
     "metadata": {},
     "output_type": "display_data"
    },
    {
     "data": {
      "application/vnd.jupyter.widget-view+json": {
       "model_id": "def7bb337d22431ca260528052fe7ff0",
       "version_major": 2,
       "version_minor": 0
      },
      "text/plain": [
       "  0%|          | 0/200 [00:00<?, ?it/s]"
      ]
     },
     "metadata": {},
     "output_type": "display_data"
    },
    {
     "data": {
      "application/vnd.jupyter.widget-view+json": {
       "model_id": "da281b9b7a484aa0996d55e86158e20e",
       "version_major": 2,
       "version_minor": 0
      },
      "text/plain": [
       "  0%|          | 0/200 [00:00<?, ?it/s]"
      ]
     },
     "metadata": {},
     "output_type": "display_data"
    },
    {
     "data": {
      "application/vnd.jupyter.widget-view+json": {
       "model_id": "949b743102a443d4936caadd7374aa41",
       "version_major": 2,
       "version_minor": 0
      },
      "text/plain": [
       "  0%|          | 0/200 [00:00<?, ?it/s]"
      ]
     },
     "metadata": {},
     "output_type": "display_data"
    },
    {
     "data": {
      "application/vnd.jupyter.widget-view+json": {
       "model_id": "a0e4fdbf6b904849a65e01ee387eeeef",
       "version_major": 2,
       "version_minor": 0
      },
      "text/plain": [
       "  0%|          | 0/200 [00:00<?, ?it/s]"
      ]
     },
     "metadata": {},
     "output_type": "display_data"
    },
    {
     "data": {
      "application/vnd.jupyter.widget-view+json": {
       "model_id": "a0a9371467ae4ac6b39575801e085d07",
       "version_major": 2,
       "version_minor": 0
      },
      "text/plain": [
       "  0%|          | 0/200 [00:00<?, ?it/s]"
      ]
     },
     "metadata": {},
     "output_type": "display_data"
    },
    {
     "data": {
      "application/vnd.jupyter.widget-view+json": {
       "model_id": "c4d8a3306fcb481f874371cf7cf2ad2c",
       "version_major": 2,
       "version_minor": 0
      },
      "text/plain": [
       "  0%|          | 0/200 [00:00<?, ?it/s]"
      ]
     },
     "metadata": {},
     "output_type": "display_data"
    },
    {
     "data": {
      "application/vnd.jupyter.widget-view+json": {
       "model_id": "e32cbffedec7416bb896f0f34cbdb1a5",
       "version_major": 2,
       "version_minor": 0
      },
      "text/plain": [
       "  0%|          | 0/200 [00:00<?, ?it/s]"
      ]
     },
     "metadata": {},
     "output_type": "display_data"
    },
    {
     "data": {
      "application/vnd.jupyter.widget-view+json": {
       "model_id": "067a3d316fc74d9fbfb2a69d49c49a8b",
       "version_major": 2,
       "version_minor": 0
      },
      "text/plain": [
       "  0%|          | 0/200 [00:00<?, ?it/s]"
      ]
     },
     "metadata": {},
     "output_type": "display_data"
    },
    {
     "data": {
      "application/vnd.jupyter.widget-view+json": {
       "model_id": "c8cf8b0fd3774951b7abf56ceaa00503",
       "version_major": 2,
       "version_minor": 0
      },
      "text/plain": [
       "  0%|          | 0/200 [00:00<?, ?it/s]"
      ]
     },
     "metadata": {},
     "output_type": "display_data"
    },
    {
     "data": {
      "application/vnd.jupyter.widget-view+json": {
       "model_id": "9af7d8d4f3744e29baaeb5fb3e7ff744",
       "version_major": 2,
       "version_minor": 0
      },
      "text/plain": [
       "  0%|          | 0/200 [00:00<?, ?it/s]"
      ]
     },
     "metadata": {},
     "output_type": "display_data"
    },
    {
     "data": {
      "application/vnd.jupyter.widget-view+json": {
       "model_id": "6d7d4cb8220c4f3699e40f7ebe727b5e",
       "version_major": 2,
       "version_minor": 0
      },
      "text/plain": [
       "  0%|          | 0/200 [00:00<?, ?it/s]"
      ]
     },
     "metadata": {},
     "output_type": "display_data"
    },
    {
     "data": {
      "application/vnd.jupyter.widget-view+json": {
       "model_id": "b19e8417d81c4622ac84e1a84d1fa7e9",
       "version_major": 2,
       "version_minor": 0
      },
      "text/plain": [
       "  0%|          | 0/200 [00:00<?, ?it/s]"
      ]
     },
     "metadata": {},
     "output_type": "display_data"
    },
    {
     "data": {
      "application/vnd.jupyter.widget-view+json": {
       "model_id": "9a7765f2b7bf49549f7fb80045aa3541",
       "version_major": 2,
       "version_minor": 0
      },
      "text/plain": [
       "  0%|          | 0/200 [00:00<?, ?it/s]"
      ]
     },
     "metadata": {},
     "output_type": "display_data"
    },
    {
     "data": {
      "application/vnd.jupyter.widget-view+json": {
       "model_id": "dc7633e7d52b4635a9bf712b563967c6",
       "version_major": 2,
       "version_minor": 0
      },
      "text/plain": [
       "  0%|          | 0/200 [00:00<?, ?it/s]"
      ]
     },
     "metadata": {},
     "output_type": "display_data"
    },
    {
     "data": {
      "application/vnd.jupyter.widget-view+json": {
       "model_id": "a46ba74261ff47b8aeec84af4a66fabf",
       "version_major": 2,
       "version_minor": 0
      },
      "text/plain": [
       "  0%|          | 0/200 [00:00<?, ?it/s]"
      ]
     },
     "metadata": {},
     "output_type": "display_data"
    },
    {
     "data": {
      "application/vnd.jupyter.widget-view+json": {
       "model_id": "b43f5e0256c34d4e8f827f75ae8eedbe",
       "version_major": 2,
       "version_minor": 0
      },
      "text/plain": [
       "  0%|          | 0/200 [00:00<?, ?it/s]"
      ]
     },
     "metadata": {},
     "output_type": "display_data"
    },
    {
     "data": {
      "application/vnd.jupyter.widget-view+json": {
       "model_id": "db5613753d72431d8d9cee9d2409e158",
       "version_major": 2,
       "version_minor": 0
      },
      "text/plain": [
       "  0%|          | 0/200 [00:00<?, ?it/s]"
      ]
     },
     "metadata": {},
     "output_type": "display_data"
    },
    {
     "data": {
      "application/vnd.jupyter.widget-view+json": {
       "model_id": "8a166eb09e254b03bd17ccd6772728e8",
       "version_major": 2,
       "version_minor": 0
      },
      "text/plain": [
       "  0%|          | 0/200 [00:00<?, ?it/s]"
      ]
     },
     "metadata": {},
     "output_type": "display_data"
    },
    {
     "data": {
      "application/vnd.jupyter.widget-view+json": {
       "model_id": "a6823760f55942bcb7e7779989407645",
       "version_major": 2,
       "version_minor": 0
      },
      "text/plain": [
       "  0%|          | 0/200 [00:00<?, ?it/s]"
      ]
     },
     "metadata": {},
     "output_type": "display_data"
    },
    {
     "data": {
      "application/vnd.jupyter.widget-view+json": {
       "model_id": "72d90155fddf44fab8da6dbbf874ca83",
       "version_major": 2,
       "version_minor": 0
      },
      "text/plain": [
       "  0%|          | 0/200 [00:00<?, ?it/s]"
      ]
     },
     "metadata": {},
     "output_type": "display_data"
    },
    {
     "data": {
      "application/vnd.jupyter.widget-view+json": {
       "model_id": "75c93921d60c4372ba0a1f9c34ccebf4",
       "version_major": 2,
       "version_minor": 0
      },
      "text/plain": [
       "  0%|          | 0/200 [00:00<?, ?it/s]"
      ]
     },
     "metadata": {},
     "output_type": "display_data"
    },
    {
     "data": {
      "application/vnd.jupyter.widget-view+json": {
       "model_id": "3af7790cb9c7470db5b3576a350c1f6b",
       "version_major": 2,
       "version_minor": 0
      },
      "text/plain": [
       "  0%|          | 0/200 [00:00<?, ?it/s]"
      ]
     },
     "metadata": {},
     "output_type": "display_data"
    },
    {
     "data": {
      "application/vnd.jupyter.widget-view+json": {
       "model_id": "d2ad42238091435eb03e0f2c74201339",
       "version_major": 2,
       "version_minor": 0
      },
      "text/plain": [
       "  0%|          | 0/200 [00:00<?, ?it/s]"
      ]
     },
     "metadata": {},
     "output_type": "display_data"
    },
    {
     "data": {
      "application/vnd.jupyter.widget-view+json": {
       "model_id": "1ffafd88dd464262ad02eee6fd3f0bc5",
       "version_major": 2,
       "version_minor": 0
      },
      "text/plain": [
       "  0%|          | 0/200 [00:00<?, ?it/s]"
      ]
     },
     "metadata": {},
     "output_type": "display_data"
    },
    {
     "data": {
      "application/vnd.jupyter.widget-view+json": {
       "model_id": "5d50ad36209a4f00bf7ebf36b1e66dc7",
       "version_major": 2,
       "version_minor": 0
      },
      "text/plain": [
       "  0%|          | 0/200 [00:00<?, ?it/s]"
      ]
     },
     "metadata": {},
     "output_type": "display_data"
    },
    {
     "data": {
      "application/vnd.jupyter.widget-view+json": {
       "model_id": "4c51dae5762b4ba1aed5335780a51526",
       "version_major": 2,
       "version_minor": 0
      },
      "text/plain": [
       "  0%|          | 0/200 [00:00<?, ?it/s]"
      ]
     },
     "metadata": {},
     "output_type": "display_data"
    },
    {
     "data": {
      "application/vnd.jupyter.widget-view+json": {
       "model_id": "08c3646a1c1444d2998df4107b5475a7",
       "version_major": 2,
       "version_minor": 0
      },
      "text/plain": [
       "  0%|          | 0/200 [00:00<?, ?it/s]"
      ]
     },
     "metadata": {},
     "output_type": "display_data"
    },
    {
     "data": {
      "application/vnd.jupyter.widget-view+json": {
       "model_id": "fc09a4fbc1074a7dba3d3383a09a3820",
       "version_major": 2,
       "version_minor": 0
      },
      "text/plain": [
       "  0%|          | 0/200 [00:00<?, ?it/s]"
      ]
     },
     "metadata": {},
     "output_type": "display_data"
    },
    {
     "data": {
      "application/vnd.jupyter.widget-view+json": {
       "model_id": "2f1e6d5824504129b2ed43a827168a6b",
       "version_major": 2,
       "version_minor": 0
      },
      "text/plain": [
       "  0%|          | 0/200 [00:00<?, ?it/s]"
      ]
     },
     "metadata": {},
     "output_type": "display_data"
    },
    {
     "data": {
      "application/vnd.jupyter.widget-view+json": {
       "model_id": "5555d1ad895240f596110c8f23643b32",
       "version_major": 2,
       "version_minor": 0
      },
      "text/plain": [
       "  0%|          | 0/200 [00:00<?, ?it/s]"
      ]
     },
     "metadata": {},
     "output_type": "display_data"
    },
    {
     "data": {
      "application/vnd.jupyter.widget-view+json": {
       "model_id": "b61a7f2941fc4893869575d38d601535",
       "version_major": 2,
       "version_minor": 0
      },
      "text/plain": [
       "  0%|          | 0/200 [00:00<?, ?it/s]"
      ]
     },
     "metadata": {},
     "output_type": "display_data"
    },
    {
     "data": {
      "application/vnd.jupyter.widget-view+json": {
       "model_id": "2f5120513fe0434b8c9848cb9cd069c1",
       "version_major": 2,
       "version_minor": 0
      },
      "text/plain": [
       "  0%|          | 0/200 [00:00<?, ?it/s]"
      ]
     },
     "metadata": {},
     "output_type": "display_data"
    },
    {
     "data": {
      "application/vnd.jupyter.widget-view+json": {
       "model_id": "8c66f8486e244011a6b2e90234239c7d",
       "version_major": 2,
       "version_minor": 0
      },
      "text/plain": [
       "  0%|          | 0/200 [00:00<?, ?it/s]"
      ]
     },
     "metadata": {},
     "output_type": "display_data"
    },
    {
     "data": {
      "application/vnd.jupyter.widget-view+json": {
       "model_id": "f22fe510564340619202cfc5989b4cbb",
       "version_major": 2,
       "version_minor": 0
      },
      "text/plain": [
       "  0%|          | 0/200 [00:00<?, ?it/s]"
      ]
     },
     "metadata": {},
     "output_type": "display_data"
    },
    {
     "data": {
      "application/vnd.jupyter.widget-view+json": {
       "model_id": "4bc7eeb61112415a84c394b478f87b38",
       "version_major": 2,
       "version_minor": 0
      },
      "text/plain": [
       "  0%|          | 0/200 [00:00<?, ?it/s]"
      ]
     },
     "metadata": {},
     "output_type": "display_data"
    },
    {
     "data": {
      "application/vnd.jupyter.widget-view+json": {
       "model_id": "4d9e26dc2cf8467290d12f6627430804",
       "version_major": 2,
       "version_minor": 0
      },
      "text/plain": [
       "  0%|          | 0/200 [00:00<?, ?it/s]"
      ]
     },
     "metadata": {},
     "output_type": "display_data"
    },
    {
     "data": {
      "application/vnd.jupyter.widget-view+json": {
       "model_id": "7b8792ce112249fba23cb14fb12bba20",
       "version_major": 2,
       "version_minor": 0
      },
      "text/plain": [
       "  0%|          | 0/200 [00:00<?, ?it/s]"
      ]
     },
     "metadata": {},
     "output_type": "display_data"
    },
    {
     "data": {
      "application/vnd.jupyter.widget-view+json": {
       "model_id": "707e062eabe24459b46a676b9d994a60",
       "version_major": 2,
       "version_minor": 0
      },
      "text/plain": [
       "  0%|          | 0/200 [00:00<?, ?it/s]"
      ]
     },
     "metadata": {},
     "output_type": "display_data"
    },
    {
     "data": {
      "application/vnd.jupyter.widget-view+json": {
       "model_id": "06a29df0f806409ea4c5859f2922778a",
       "version_major": 2,
       "version_minor": 0
      },
      "text/plain": [
       "  0%|          | 0/200 [00:00<?, ?it/s]"
      ]
     },
     "metadata": {},
     "output_type": "display_data"
    },
    {
     "data": {
      "application/vnd.jupyter.widget-view+json": {
       "model_id": "1aceec19c8384e5785faeecec3e9336a",
       "version_major": 2,
       "version_minor": 0
      },
      "text/plain": [
       "  0%|          | 0/200 [00:00<?, ?it/s]"
      ]
     },
     "metadata": {},
     "output_type": "display_data"
    },
    {
     "data": {
      "application/vnd.jupyter.widget-view+json": {
       "model_id": "68d37e23e7c24dc5bc69f14d8af70d2e",
       "version_major": 2,
       "version_minor": 0
      },
      "text/plain": [
       "  0%|          | 0/200 [00:00<?, ?it/s]"
      ]
     },
     "metadata": {},
     "output_type": "display_data"
    },
    {
     "data": {
      "application/vnd.jupyter.widget-view+json": {
       "model_id": "69d7b6831f75429bb7ef92ec10b52002",
       "version_major": 2,
       "version_minor": 0
      },
      "text/plain": [
       "  0%|          | 0/200 [00:00<?, ?it/s]"
      ]
     },
     "metadata": {},
     "output_type": "display_data"
    },
    {
     "data": {
      "application/vnd.jupyter.widget-view+json": {
       "model_id": "ede1f74bf9c14684ae2efce8b74f6a1f",
       "version_major": 2,
       "version_minor": 0
      },
      "text/plain": [
       "  0%|          | 0/200 [00:00<?, ?it/s]"
      ]
     },
     "metadata": {},
     "output_type": "display_data"
    },
    {
     "data": {
      "application/vnd.jupyter.widget-view+json": {
       "model_id": "adb88cd0669f48bc83a0c4a9650df741",
       "version_major": 2,
       "version_minor": 0
      },
      "text/plain": [
       "  0%|          | 0/200 [00:00<?, ?it/s]"
      ]
     },
     "metadata": {},
     "output_type": "display_data"
    },
    {
     "data": {
      "application/vnd.jupyter.widget-view+json": {
       "model_id": "122605688d7a44a2addf284506231354",
       "version_major": 2,
       "version_minor": 0
      },
      "text/plain": [
       "  0%|          | 0/200 [00:00<?, ?it/s]"
      ]
     },
     "metadata": {},
     "output_type": "display_data"
    },
    {
     "data": {
      "application/vnd.jupyter.widget-view+json": {
       "model_id": "024233e437a348c4a04473e73591f300",
       "version_major": 2,
       "version_minor": 0
      },
      "text/plain": [
       "  0%|          | 0/200 [00:00<?, ?it/s]"
      ]
     },
     "metadata": {},
     "output_type": "display_data"
    },
    {
     "data": {
      "application/vnd.jupyter.widget-view+json": {
       "model_id": "bda4724bf84a4da7bce36cd109f2029a",
       "version_major": 2,
       "version_minor": 0
      },
      "text/plain": [
       "  0%|          | 0/200 [00:00<?, ?it/s]"
      ]
     },
     "metadata": {},
     "output_type": "display_data"
    },
    {
     "data": {
      "application/vnd.jupyter.widget-view+json": {
       "model_id": "22454449bf5d42e89f104eb207d16e67",
       "version_major": 2,
       "version_minor": 0
      },
      "text/plain": [
       "  0%|          | 0/200 [00:00<?, ?it/s]"
      ]
     },
     "metadata": {},
     "output_type": "display_data"
    },
    {
     "data": {
      "application/vnd.jupyter.widget-view+json": {
       "model_id": "c1eba2c72327422792da0c15cc618428",
       "version_major": 2,
       "version_minor": 0
      },
      "text/plain": [
       "  0%|          | 0/200 [00:00<?, ?it/s]"
      ]
     },
     "metadata": {},
     "output_type": "display_data"
    },
    {
     "data": {
      "application/vnd.jupyter.widget-view+json": {
       "model_id": "33ddae8f64754e388f82c344236f5505",
       "version_major": 2,
       "version_minor": 0
      },
      "text/plain": [
       "  0%|          | 0/200 [00:00<?, ?it/s]"
      ]
     },
     "metadata": {},
     "output_type": "display_data"
    },
    {
     "data": {
      "application/vnd.jupyter.widget-view+json": {
       "model_id": "d64fd66d12fb4298bf1a94e56c2b9fa3",
       "version_major": 2,
       "version_minor": 0
      },
      "text/plain": [
       "  0%|          | 0/200 [00:00<?, ?it/s]"
      ]
     },
     "metadata": {},
     "output_type": "display_data"
    },
    {
     "data": {
      "application/vnd.jupyter.widget-view+json": {
       "model_id": "07c1e79ebe174d58a81623db02c5e635",
       "version_major": 2,
       "version_minor": 0
      },
      "text/plain": [
       "  0%|          | 0/200 [00:00<?, ?it/s]"
      ]
     },
     "metadata": {},
     "output_type": "display_data"
    },
    {
     "data": {
      "application/vnd.jupyter.widget-view+json": {
       "model_id": "053beaf63e47485eae06c19f71c313e8",
       "version_major": 2,
       "version_minor": 0
      },
      "text/plain": [
       "  0%|          | 0/200 [00:00<?, ?it/s]"
      ]
     },
     "metadata": {},
     "output_type": "display_data"
    },
    {
     "data": {
      "application/vnd.jupyter.widget-view+json": {
       "model_id": "29426497318443d9a39cb145f6339f2a",
       "version_major": 2,
       "version_minor": 0
      },
      "text/plain": [
       "  0%|          | 0/200 [00:00<?, ?it/s]"
      ]
     },
     "metadata": {},
     "output_type": "display_data"
    },
    {
     "data": {
      "application/vnd.jupyter.widget-view+json": {
       "model_id": "fecd843904bd4728b4b1827ecdce8bac",
       "version_major": 2,
       "version_minor": 0
      },
      "text/plain": [
       "  0%|          | 0/200 [00:00<?, ?it/s]"
      ]
     },
     "metadata": {},
     "output_type": "display_data"
    },
    {
     "data": {
      "application/vnd.jupyter.widget-view+json": {
       "model_id": "8259d9dce1ae4ce58e1664f5718489f2",
       "version_major": 2,
       "version_minor": 0
      },
      "text/plain": [
       "  0%|          | 0/200 [00:00<?, ?it/s]"
      ]
     },
     "metadata": {},
     "output_type": "display_data"
    },
    {
     "data": {
      "application/vnd.jupyter.widget-view+json": {
       "model_id": "ca03fe8fd17644e2af7e1e9841b6e84f",
       "version_major": 2,
       "version_minor": 0
      },
      "text/plain": [
       "  0%|          | 0/200 [00:00<?, ?it/s]"
      ]
     },
     "metadata": {},
     "output_type": "display_data"
    },
    {
     "data": {
      "application/vnd.jupyter.widget-view+json": {
       "model_id": "f82dc1aa24f84484a9d8287a64c4e194",
       "version_major": 2,
       "version_minor": 0
      },
      "text/plain": [
       "  0%|          | 0/200 [00:00<?, ?it/s]"
      ]
     },
     "metadata": {},
     "output_type": "display_data"
    },
    {
     "data": {
      "application/vnd.jupyter.widget-view+json": {
       "model_id": "286b4bf9f4a444c88dcc201798534b12",
       "version_major": 2,
       "version_minor": 0
      },
      "text/plain": [
       "  0%|          | 0/200 [00:00<?, ?it/s]"
      ]
     },
     "metadata": {},
     "output_type": "display_data"
    },
    {
     "data": {
      "application/vnd.jupyter.widget-view+json": {
       "model_id": "b97acc1c26aa44f8ae38e7b7d4bdacae",
       "version_major": 2,
       "version_minor": 0
      },
      "text/plain": [
       "  0%|          | 0/200 [00:00<?, ?it/s]"
      ]
     },
     "metadata": {},
     "output_type": "display_data"
    },
    {
     "data": {
      "application/vnd.jupyter.widget-view+json": {
       "model_id": "4c96a090f27c4470a6bd2ec6ab0f942d",
       "version_major": 2,
       "version_minor": 0
      },
      "text/plain": [
       "  0%|          | 0/200 [00:00<?, ?it/s]"
      ]
     },
     "metadata": {},
     "output_type": "display_data"
    },
    {
     "data": {
      "application/vnd.jupyter.widget-view+json": {
       "model_id": "b423282938ff410ab07642af0ac15cb8",
       "version_major": 2,
       "version_minor": 0
      },
      "text/plain": [
       "  0%|          | 0/200 [00:00<?, ?it/s]"
      ]
     },
     "metadata": {},
     "output_type": "display_data"
    },
    {
     "data": {
      "application/vnd.jupyter.widget-view+json": {
       "model_id": "c370d4b49dcc4c9e997311a33be97750",
       "version_major": 2,
       "version_minor": 0
      },
      "text/plain": [
       "  0%|          | 0/200 [00:00<?, ?it/s]"
      ]
     },
     "metadata": {},
     "output_type": "display_data"
    },
    {
     "data": {
      "application/vnd.jupyter.widget-view+json": {
       "model_id": "ca994efa93da41618d841109baa29bfb",
       "version_major": 2,
       "version_minor": 0
      },
      "text/plain": [
       "  0%|          | 0/200 [00:00<?, ?it/s]"
      ]
     },
     "metadata": {},
     "output_type": "display_data"
    },
    {
     "data": {
      "application/vnd.jupyter.widget-view+json": {
       "model_id": "ce998590305d480e8734b277972c4bc7",
       "version_major": 2,
       "version_minor": 0
      },
      "text/plain": [
       "  0%|          | 0/200 [00:00<?, ?it/s]"
      ]
     },
     "metadata": {},
     "output_type": "display_data"
    },
    {
     "data": {
      "application/vnd.jupyter.widget-view+json": {
       "model_id": "95514a4bb63e4fed8e821c192f893cf7",
       "version_major": 2,
       "version_minor": 0
      },
      "text/plain": [
       "  0%|          | 0/200 [00:00<?, ?it/s]"
      ]
     },
     "metadata": {},
     "output_type": "display_data"
    },
    {
     "data": {
      "application/vnd.jupyter.widget-view+json": {
       "model_id": "c06a9371bee44fc1b13d246ed6a682d5",
       "version_major": 2,
       "version_minor": 0
      },
      "text/plain": [
       "  0%|          | 0/200 [00:00<?, ?it/s]"
      ]
     },
     "metadata": {},
     "output_type": "display_data"
    },
    {
     "data": {
      "application/vnd.jupyter.widget-view+json": {
       "model_id": "f8c3518da8af40b7b50f65413d4653f9",
       "version_major": 2,
       "version_minor": 0
      },
      "text/plain": [
       "  0%|          | 0/200 [00:00<?, ?it/s]"
      ]
     },
     "metadata": {},
     "output_type": "display_data"
    },
    {
     "data": {
      "application/vnd.jupyter.widget-view+json": {
       "model_id": "5820c765ebe0494f9d4a74d698ad0082",
       "version_major": 2,
       "version_minor": 0
      },
      "text/plain": [
       "  0%|          | 0/200 [00:00<?, ?it/s]"
      ]
     },
     "metadata": {},
     "output_type": "display_data"
    },
    {
     "data": {
      "application/vnd.jupyter.widget-view+json": {
       "model_id": "22a6b854dc224db78ed61dacacce8ba9",
       "version_major": 2,
       "version_minor": 0
      },
      "text/plain": [
       "  0%|          | 0/200 [00:00<?, ?it/s]"
      ]
     },
     "metadata": {},
     "output_type": "display_data"
    },
    {
     "data": {
      "application/vnd.jupyter.widget-view+json": {
       "model_id": "984e049a69b74e8bb15584e36b460492",
       "version_major": 2,
       "version_minor": 0
      },
      "text/plain": [
       "  0%|          | 0/200 [00:00<?, ?it/s]"
      ]
     },
     "metadata": {},
     "output_type": "display_data"
    },
    {
     "data": {
      "application/vnd.jupyter.widget-view+json": {
       "model_id": "0b9f2fe7b6044889812d68857efcd345",
       "version_major": 2,
       "version_minor": 0
      },
      "text/plain": [
       "  0%|          | 0/200 [00:00<?, ?it/s]"
      ]
     },
     "metadata": {},
     "output_type": "display_data"
    },
    {
     "data": {
      "application/vnd.jupyter.widget-view+json": {
       "model_id": "3c5fc3eda7d84349b9708b3f170010f4",
       "version_major": 2,
       "version_minor": 0
      },
      "text/plain": [
       "  0%|          | 0/200 [00:00<?, ?it/s]"
      ]
     },
     "metadata": {},
     "output_type": "display_data"
    },
    {
     "data": {
      "application/vnd.jupyter.widget-view+json": {
       "model_id": "e20d15ffd3cb4b35baf53dbb32b97257",
       "version_major": 2,
       "version_minor": 0
      },
      "text/plain": [
       "  0%|          | 0/200 [00:00<?, ?it/s]"
      ]
     },
     "metadata": {},
     "output_type": "display_data"
    },
    {
     "data": {
      "application/vnd.jupyter.widget-view+json": {
       "model_id": "98f46f8d5c0f4a0b8368eec2a42d04cd",
       "version_major": 2,
       "version_minor": 0
      },
      "text/plain": [
       "  0%|          | 0/200 [00:00<?, ?it/s]"
      ]
     },
     "metadata": {},
     "output_type": "display_data"
    },
    {
     "data": {
      "application/vnd.jupyter.widget-view+json": {
       "model_id": "6be00168b4c0413d8e2eff521827c568",
       "version_major": 2,
       "version_minor": 0
      },
      "text/plain": [
       "  0%|          | 0/200 [00:00<?, ?it/s]"
      ]
     },
     "metadata": {},
     "output_type": "display_data"
    },
    {
     "data": {
      "application/vnd.jupyter.widget-view+json": {
       "model_id": "25a056712d874322ace2fa7069a9af08",
       "version_major": 2,
       "version_minor": 0
      },
      "text/plain": [
       "  0%|          | 0/200 [00:00<?, ?it/s]"
      ]
     },
     "metadata": {},
     "output_type": "display_data"
    },
    {
     "data": {
      "application/vnd.jupyter.widget-view+json": {
       "model_id": "ecfa5febb52946bd8ef0a1eee041cad1",
       "version_major": 2,
       "version_minor": 0
      },
      "text/plain": [
       "  0%|          | 0/200 [00:00<?, ?it/s]"
      ]
     },
     "metadata": {},
     "output_type": "display_data"
    },
    {
     "data": {
      "application/vnd.jupyter.widget-view+json": {
       "model_id": "3ce67caee2a7440e8802e50e883f505b",
       "version_major": 2,
       "version_minor": 0
      },
      "text/plain": [
       "  0%|          | 0/200 [00:00<?, ?it/s]"
      ]
     },
     "metadata": {},
     "output_type": "display_data"
    },
    {
     "data": {
      "application/vnd.jupyter.widget-view+json": {
       "model_id": "057196cfa19f4211b1c38865634b6d95",
       "version_major": 2,
       "version_minor": 0
      },
      "text/plain": [
       "  0%|          | 0/200 [00:00<?, ?it/s]"
      ]
     },
     "metadata": {},
     "output_type": "display_data"
    },
    {
     "data": {
      "application/vnd.jupyter.widget-view+json": {
       "model_id": "713242ccfe20494f9b88c353d81a3bfa",
       "version_major": 2,
       "version_minor": 0
      },
      "text/plain": [
       "  0%|          | 0/200 [00:00<?, ?it/s]"
      ]
     },
     "metadata": {},
     "output_type": "display_data"
    },
    {
     "data": {
      "application/vnd.jupyter.widget-view+json": {
       "model_id": "359df1ca4b644367bcec5666dc8f7306",
       "version_major": 2,
       "version_minor": 0
      },
      "text/plain": [
       "  0%|          | 0/200 [00:00<?, ?it/s]"
      ]
     },
     "metadata": {},
     "output_type": "display_data"
    }
   ],
   "source": [
    "X_train, y_train, md_train = convert_to_tens(data_train, lbls_train, md_train, T_STEPS)\n",
    "assert len(lbls_train) == len(y_train)\n",
    "X_val, y_val, md_val = convert_to_tens(data_val, lbls_val, md_val, T_STEPS)\n",
    "assert len(lbls_val) == len(y_val)\n",
    "#X_test, y_test, md_test = convert_to_tens(data_test, lbls_test, md_test, T_STEPS)\n",
    "#assert len(lbls_test) == len(y_test)"
   ]
  },
  {
   "cell_type": "code",
   "execution_count": 20,
   "metadata": {},
   "outputs": [],
   "source": [
    "try:\n",
    "    torch.save(X_train, os.path.join(exp_fold, \"X_train.pt\"))\n",
    "    torch.save(y_train, os.path.join(exp_fold, \"y_train.pt\"))\n",
    "    torch.save(md_train, os.path.join(exp_fold, \"md_train.pt\"))\n",
    "\n",
    "    torch.save(X_val, os.path.join(exp_fold, \"X_val.pt\"))\n",
    "    torch.save(y_val, os.path.join(exp_fold, \"y_val.pt\"))\n",
    "    torch.save(md_val, os.path.join(exp_fold, \"md_val.pt\"))\n",
    "\n",
    "    #torch.save(X_test, os.path.join(exp_fold, \"X_test.pt\"))\n",
    "    #torch.save(y_test, os.path.join(exp_fold, \"y_test.pt\"))\n",
    "    #torch.save(md_test, os.path.join(exp_fold, \"md_test.pt\"))\n",
    "except Exception as e:\n",
    "    print(e)"
   ]
  },
  {
   "cell_type": "code",
   "execution_count": 22,
   "metadata": {},
   "outputs": [
    {
     "name": "stderr",
     "output_type": "stream",
     "text": [
      "/tmp/ipykernel_1290344/3477848559.py:1: FutureWarning: You are using `torch.load` with `weights_only=False` (the current default value), which uses the default pickle module implicitly. It is possible to construct malicious pickle data which will execute arbitrary code during unpickling (See https://github.com/pytorch/pytorch/blob/main/SECURITY.md#untrusted-models for more details). In a future release, the default value for `weights_only` will be flipped to `True`. This limits the functions that could be executed during unpickling. Arbitrary objects will no longer be allowed to be loaded via this mode unless they are explicitly allowlisted by the user via `torch.serialization.add_safe_globals`. We recommend you start setting `weights_only=True` for any use case where you don't have full control of the loaded file. Please open an issue on GitHub for any issues related to this experimental feature.\n",
      "  X_train = torch.load(os.path.join(exp_fold, \"X_train.pt\"))\n",
      "/tmp/ipykernel_1290344/3477848559.py:2: FutureWarning: You are using `torch.load` with `weights_only=False` (the current default value), which uses the default pickle module implicitly. It is possible to construct malicious pickle data which will execute arbitrary code during unpickling (See https://github.com/pytorch/pytorch/blob/main/SECURITY.md#untrusted-models for more details). In a future release, the default value for `weights_only` will be flipped to `True`. This limits the functions that could be executed during unpickling. Arbitrary objects will no longer be allowed to be loaded via this mode unless they are explicitly allowlisted by the user via `torch.serialization.add_safe_globals`. We recommend you start setting `weights_only=True` for any use case where you don't have full control of the loaded file. Please open an issue on GitHub for any issues related to this experimental feature.\n",
      "  X_val = torch.load(os.path.join(exp_fold, \"X_val.pt\"))\n",
      "/tmp/ipykernel_1290344/3477848559.py:5: FutureWarning: You are using `torch.load` with `weights_only=False` (the current default value), which uses the default pickle module implicitly. It is possible to construct malicious pickle data which will execute arbitrary code during unpickling (See https://github.com/pytorch/pytorch/blob/main/SECURITY.md#untrusted-models for more details). In a future release, the default value for `weights_only` will be flipped to `True`. This limits the functions that could be executed during unpickling. Arbitrary objects will no longer be allowed to be loaded via this mode unless they are explicitly allowlisted by the user via `torch.serialization.add_safe_globals`. We recommend you start setting `weights_only=True` for any use case where you don't have full control of the loaded file. Please open an issue on GitHub for any issues related to this experimental feature.\n",
      "  y_train = torch.load(os.path.join(exp_fold, \"y_train.pt\"))\n",
      "/tmp/ipykernel_1290344/3477848559.py:6: FutureWarning: You are using `torch.load` with `weights_only=False` (the current default value), which uses the default pickle module implicitly. It is possible to construct malicious pickle data which will execute arbitrary code during unpickling (See https://github.com/pytorch/pytorch/blob/main/SECURITY.md#untrusted-models for more details). In a future release, the default value for `weights_only` will be flipped to `True`. This limits the functions that could be executed during unpickling. Arbitrary objects will no longer be allowed to be loaded via this mode unless they are explicitly allowlisted by the user via `torch.serialization.add_safe_globals`. We recommend you start setting `weights_only=True` for any use case where you don't have full control of the loaded file. Please open an issue on GitHub for any issues related to this experimental feature.\n",
      "  y_val = torch.load(os.path.join(exp_fold, \"y_val.pt\"))\n",
      "/tmp/ipykernel_1290344/3477848559.py:9: FutureWarning: You are using `torch.load` with `weights_only=False` (the current default value), which uses the default pickle module implicitly. It is possible to construct malicious pickle data which will execute arbitrary code during unpickling (See https://github.com/pytorch/pytorch/blob/main/SECURITY.md#untrusted-models for more details). In a future release, the default value for `weights_only` will be flipped to `True`. This limits the functions that could be executed during unpickling. Arbitrary objects will no longer be allowed to be loaded via this mode unless they are explicitly allowlisted by the user via `torch.serialization.add_safe_globals`. We recommend you start setting `weights_only=True` for any use case where you don't have full control of the loaded file. Please open an issue on GitHub for any issues related to this experimental feature.\n",
      "  md_train = torch.load(os.path.join(exp_fold, \"md_train.pt\"))\n",
      "/tmp/ipykernel_1290344/3477848559.py:10: FutureWarning: You are using `torch.load` with `weights_only=False` (the current default value), which uses the default pickle module implicitly. It is possible to construct malicious pickle data which will execute arbitrary code during unpickling (See https://github.com/pytorch/pytorch/blob/main/SECURITY.md#untrusted-models for more details). In a future release, the default value for `weights_only` will be flipped to `True`. This limits the functions that could be executed during unpickling. Arbitrary objects will no longer be allowed to be loaded via this mode unless they are explicitly allowlisted by the user via `torch.serialization.add_safe_globals`. We recommend you start setting `weights_only=True` for any use case where you don't have full control of the loaded file. Please open an issue on GitHub for any issues related to this experimental feature.\n",
      "  md_val = torch.load(os.path.join(exp_fold, \"md_val.pt\"))\n"
     ]
    }
   ],
   "source": [
    "X_train = torch.load(os.path.join(exp_fold, \"X_train.pt\"))\n",
    "X_val = torch.load(os.path.join(exp_fold, \"X_val.pt\"))\n",
    "#X_test = torch.load(os.path.join(exp_fold, \"X_test.pt\"))\n",
    "\n",
    "y_train = torch.load(os.path.join(exp_fold, \"y_train.pt\"))\n",
    "y_val = torch.load(os.path.join(exp_fold, \"y_val.pt\"))\n",
    "#y_test = torch.load(os.path.join(exp_fold, \"y_test.pt\"))\n",
    "\n",
    "md_train = torch.load(os.path.join(exp_fold, \"md_train.pt\"))\n",
    "md_val = torch.load(os.path.join(exp_fold, \"md_val.pt\"))\n",
    "#md_test = torch.load(os.path.join(exp_fold, \"md_test.pt\")"
   ]
  },
  {
   "cell_type": "code",
   "execution_count": 10,
   "metadata": {},
   "outputs": [],
   "source": [
    "def gen_x_sequ(X, Y, t_steps_to_coll_max=None):\n",
    "    _t_steps = X.shape[1]\n",
    "    X_1 = X[:,1:,...]\n",
    "    X_0 = X[:,:-1,...]\n",
    "    X_seq = torch.stack([X_0, X_1], dim=2)\n",
    "    X_seq = X_seq.view(-1, X_seq.shape[-3], X_seq.shape[-2], X_seq.shape[-1])\n",
    "    \n",
    "    Y_expand = Y.unsqueeze(1).repeat(1,_t_steps-1)#.flatten()\n",
    "    if t_steps_to_coll_max is not None:\n",
    "        Y_expand[:,:-t_steps_to_coll_max] = 0\n",
    "    Y_expand = Y_expand.flatten()\n",
    "\n",
    "    return X_seq, Y_expand"
   ]
  },
  {
   "cell_type": "code",
   "execution_count": 11,
   "metadata": {},
   "outputs": [],
   "source": [
    "X_seq_train, y_seq_train = gen_x_sequ(X_train, y_train, T_STEPS_T_COLL_MAX)\n",
    "X_seq_val, y_seq_val = gen_x_sequ(X_val, y_val, T_STEPS_T_COLL_MAX)\n",
    "#X_seq_test, y_seq_test = gen_x_sequ(X_test, y_test, T_STEPS_T_COLL_MAX)"
   ]
  },
  {
   "cell_type": "code",
   "execution_count": 12,
   "metadata": {},
   "outputs": [],
   "source": [
    "# create dataloaders\n",
    "\n",
    "train_data = torch.utils.data.TensorDataset(X_seq_train, y_seq_train)\n",
    "val_data = torch.utils.data.TensorDataset(X_seq_val, y_seq_val)\n",
    "#test_data = torch.utils.data.TensorDataset(X_seq_test, y_seq_test)\n",
    "\n",
    "BATCH_SIZE = 32\n",
    "\n",
    "train_loader = torch.utils.data.DataLoader(train_data, batch_size=BATCH_SIZE, shuffle=True)\n",
    "val_loader = torch.utils.data.DataLoader(val_data, batch_size=BATCH_SIZE, shuffle=False)\n",
    "#test_loader = torch.utils.data.DataLoader(test_data, batch_size=BATCH_SIZE, shuffle=False)"
   ]
  },
  {
   "cell_type": "code",
   "execution_count": 13,
   "metadata": {},
   "outputs": [
    {
     "name": "stdout",
     "output_type": "stream",
     "text": [
      "cuda\n"
     ]
    }
   ],
   "source": [
    "device = torch.device(\"cuda\" if torch.cuda.is_available() else \"cpu\")\n",
    "print(device)"
   ]
  },
  {
   "cell_type": "markdown",
   "metadata": {},
   "source": [
    "#### First, only train hyperparameters"
   ]
  },
  {
   "cell_type": "code",
   "execution_count": 15,
   "metadata": {},
   "outputs": [
    {
     "name": "stdout",
     "output_type": "stream",
     "text": [
      "Mode rmo\n",
      "Epoch 1, loss: 0.5066506885000108\n",
      "Validation loss: 0.4255209349471457\n",
      "Epoch 2, loss: 0.3672471378010569\n",
      "Validation loss: 0.34340900880380715\n",
      "Epoch 3, loss: 0.3153982303980718\n",
      "Validation loss: 0.3109054424580347\n",
      "Epoch 4, loss: 0.2939830433661148\n",
      "Validation loss: 0.2970125415911066\n",
      "Epoch 5, loss: 0.2852365153203823\n",
      "Validation loss: 0.2915289377234386\n",
      "Epoch 6, loss: 0.2815348771974716\n",
      "Validation loss: 0.2889065048915077\n",
      "Epoch 7, loss: 0.2806532585480333\n",
      "Validation loss: 0.2878874287734275\n",
      "Epoch 8, loss: 0.2795885806346246\n",
      "Validation loss: 0.2874486503742134\n",
      "Epoch 9, loss: 0.27808669562444555\n",
      "Validation loss: 0.2871940411699573\n",
      "Epoch 10, loss: 0.27848836564781326\n",
      "Validation loss: 0.28710636148333263\n",
      "Epoch 11, loss: 0.2782511955081203\n",
      "Validation loss: 0.2870604807550092\n",
      "Epoch 12, loss: 0.2775664868957232\n",
      "Validation loss: 0.28716306418868537\n",
      "Epoch 13, loss: 0.27821867625525526\n",
      "Validation loss: 0.2870911239832844\n",
      "Epoch 14, loss: 0.2767685658846446\n",
      "Validation loss: 0.2871622179137616\n",
      "Epoch 15, loss: 0.278467118380729\n",
      "Validation loss: 0.28737172023218566\n",
      "Epoch 16, loss: 0.27740534823807106\n",
      "Validation loss: 0.28728154798462746\n",
      "Epoch 17, loss: 0.27823293694601436\n",
      "Validation loss: 0.2871641695961363\n",
      "Epoch 18, loss: 0.2781206619110266\n",
      "Validation loss: 0.287170063799214\n",
      "Epoch 19, loss: 0.2778318939453025\n",
      "Validation loss: 0.287264359234665\n",
      "Epoch 20, loss: 0.2765367120616178\n",
      "Validation loss: 0.28702219707479526\n",
      "Epoch 21, loss: 0.2769958567541065\n",
      "Validation loss: 0.28714584052890785\n",
      "Epoch 22, loss: 0.2766536446358102\n",
      "Validation loss: 0.2870425324085007\n",
      "Epoch 23, loss: 0.2759366117793136\n",
      "Validation loss: 0.28720067776586145\n",
      "Epoch 24, loss: 0.277470414449899\n",
      "Validation loss: 0.2870998902895425\n",
      "Epoch 25, loss: 0.2757832074471992\n",
      "Validation loss: 0.28709621321803674\n",
      "Mode linear\n",
      "Epoch 1, loss: 0.6166819940617614\n",
      "Validation loss: 0.4738840578525204\n",
      "Epoch 2, loss: 0.4313791576944619\n",
      "Validation loss: 0.3949051913051663\n",
      "Epoch 3, loss: 0.37283101901491866\n",
      "Validation loss: 0.35115127530051765\n",
      "Epoch 4, loss: 0.3420709457172586\n",
      "Validation loss: 0.3282461354421903\n",
      "Epoch 5, loss: 0.32785103113129976\n",
      "Validation loss: 0.31716271058535495\n",
      "Epoch 6, loss: 0.32160934702057037\n",
      "Validation loss: 0.30977554504076094\n",
      "Epoch 7, loss: 0.3187114084967974\n",
      "Validation loss: 0.3084885100108192\n",
      "Epoch 8, loss: 0.31796068281318596\n",
      "Validation loss: 0.3061925435593099\n",
      "Epoch 9, loss: 0.3172605164021669\n",
      "Validation loss: 0.3046322258392455\n",
      "Epoch 10, loss: 0.316972807097665\n",
      "Validation loss: 0.30535232927026335\n",
      "Epoch 11, loss: 0.3165530207999138\n",
      "Validation loss: 0.3048058958368812\n",
      "Epoch 12, loss: 0.31763910108504445\n",
      "Validation loss: 0.3057325341012054\n",
      "Epoch 13, loss: 0.31717240261782403\n",
      "Validation loss: 0.3045778978693017\n",
      "Epoch 14, loss: 0.3170818900899105\n",
      "Validation loss: 0.3054518214780548\n",
      "Epoch 15, loss: 0.31691120297419423\n",
      "Validation loss: 0.30389894394734224\n",
      "Epoch 16, loss: 0.3182002942278454\n",
      "Validation loss: 0.30496799005927305\n",
      "Epoch 17, loss: 0.31757921509101333\n",
      "Validation loss: 0.3043912710210787\n",
      "Epoch 18, loss: 0.3176454771369983\n",
      "Validation loss: 0.3052885552246648\n",
      "Epoch 19, loss: 0.3178443755686986\n",
      "Validation loss: 0.30352330953537054\n",
      "Epoch 20, loss: 0.3173905593709419\n",
      "Validation loss: 0.3040542145153651\n",
      "Epoch 21, loss: 0.3169002855577908\n",
      "Validation loss: 0.3039962873276134\n",
      "Epoch 22, loss: 0.3181131191927009\n",
      "Validation loss: 0.30368725814815445\n",
      "Epoch 23, loss: 0.3177986444879447\n",
      "Validation loss: 0.3044401054151842\n",
      "Epoch 24, loss: 0.31768692841419965\n",
      "Validation loss: 0.3042926718843825\n",
      "Epoch 25, loss: 0.31758023889501763\n",
      "Validation loss: 0.3040777156809349\n"
     ]
    }
   ],
   "source": [
    "loss_fn = nn.BCEWithLogitsLoss()\n",
    "\n",
    "N_EPOCHS = 20\n",
    "\n",
    "hyperparams = {}\n",
    "\n",
    "for mode in [\"rmo\", \"linear\"]:\n",
    "\n",
    "    print(f\"Mode {mode}\")\n",
    "    net = Net(\n",
    "        kern_half_size=2,\n",
    "        sigm_kern=0.3,\n",
    "        reg=0.1,\n",
    "        r_out_sigm_scale=1.0,\n",
    "        r_out_scale=1.0,\n",
    "        size_layers=[],\n",
    "        rmo_head=(mode == \"rmo\"),\n",
    "        use_dropout=0.5,\n",
    "        train_kernels=False,\n",
    "        train_weights=False,\n",
    "    )\n",
    "    net.to(device)\n",
    "\n",
    "    optimizer = torch.optim.Adam(net.parameters(), lr=0.001)\n",
    "\n",
    "    train_losses = []\n",
    "    val_losses = []\n",
    "\n",
    "    for epoch in range(N_EPOCHS):\n",
    "        net.train()\n",
    "        running_loss = 0.0\n",
    "        for i, data in enumerate(train_loader, 0):\n",
    "            inputs, labels = data\n",
    "            inputs, labels = inputs.to(device), labels.to(device)\n",
    "\n",
    "            optimizer.zero_grad()\n",
    "\n",
    "            outputs = net(inputs)\n",
    "\n",
    "            loss = loss_fn(outputs.flatten(), labels.float())\n",
    "            loss.backward()\n",
    "            optimizer.step()\n",
    "\n",
    "            running_loss += loss.item()\n",
    "\n",
    "        train_losses.append(running_loss / len(train_loader))\n",
    "\n",
    "        print(f\"Epoch {epoch + 1}, loss: {running_loss / len(train_loader)}\")\n",
    "\n",
    "        net.eval()\n",
    "        val_loss = 0.0\n",
    "        with torch.no_grad():\n",
    "            for inputs, labels in val_loader:\n",
    "                inputs, labels = inputs.to(device), labels.to(device)\n",
    "\n",
    "                outputs = net(inputs)\n",
    "                val_loss += loss_fn(outputs.flatten(), labels.float()).item()\n",
    "\n",
    "        val_losses.append(val_loss / len(val_loader))\n",
    "        print(f\"Validation loss: {val_loss / len(val_loader)}\")\n",
    "\n",
    "    hyperparams[mode] = {\n",
    "        \"sigm_bias\": net.sigm.bias.detach().cpu().numpy()[0],\n",
    "        \"sigm_scale\": net.sigm.scale.detach().cpu().numpy()[0],\n",
    "        \"out_scale\": net.out_scale.detach().cpu().numpy()[0],\n",
    "        \"out_th\": net.out_th.detach().cpu().numpy()[0],\n",
    "    }\n",
    "\n",
    "    # save network state\n",
    "    torch.save(net.state_dict(), os.path.join(exp_fold, f\"net_state_dict_hyperparam_train_{mode}.pt\"))"
   ]
  },
  {
   "cell_type": "code",
   "execution_count": 16,
   "metadata": {},
   "outputs": [
    {
     "name": "stdout",
     "output_type": "stream",
     "text": [
      "Accuracy of the network on the validation set: 87.51758793969849%\n"
     ]
    }
   ],
   "source": [
    "# test the model\n",
    "\n",
    "net.eval()\n",
    "\n",
    "correct = 0\n",
    "total = 0\n",
    "\n",
    "with torch.no_grad():\n",
    "    for data in val_loader:\n",
    "        inputs, labels = data\n",
    "        inputs, labels = inputs.to(device), labels.to(device)\n",
    "\n",
    "        outputs = net(inputs)\n",
    "\n",
    "        predicted = (outputs > 0).int()\n",
    "\n",
    "        total += labels.size(0)\n",
    "        correct += (predicted == labels).sum().item()\n",
    "\n",
    "print(f\"Accuracy of the network on the validation set: {100 * correct / total}%\")"
   ]
  },
  {
   "cell_type": "code",
   "execution_count": 18,
   "metadata": {},
   "outputs": [],
   "source": [
    "df_hyperparams = pd.DataFrame(hyperparams)"
   ]
  },
  {
   "cell_type": "code",
   "execution_count": 19,
   "metadata": {},
   "outputs": [
    {
     "data": {
      "text/html": [
       "<div>\n",
       "<style scoped>\n",
       "    .dataframe tbody tr th:only-of-type {\n",
       "        vertical-align: middle;\n",
       "    }\n",
       "\n",
       "    .dataframe tbody tr th {\n",
       "        vertical-align: top;\n",
       "    }\n",
       "\n",
       "    .dataframe thead th {\n",
       "        text-align: right;\n",
       "    }\n",
       "</style>\n",
       "<table border=\"1\" class=\"dataframe\">\n",
       "  <thead>\n",
       "    <tr style=\"text-align: right;\">\n",
       "      <th></th>\n",
       "      <th>rmo</th>\n",
       "      <th>linear</th>\n",
       "    </tr>\n",
       "  </thead>\n",
       "  <tbody>\n",
       "    <tr>\n",
       "      <th>sigm_bias</th>\n",
       "      <td>-2.565055</td>\n",
       "      <td>0.000000</td>\n",
       "    </tr>\n",
       "    <tr>\n",
       "      <th>sigm_scale</th>\n",
       "      <td>1.547136</td>\n",
       "      <td>1.000000</td>\n",
       "    </tr>\n",
       "    <tr>\n",
       "      <th>out_scale</th>\n",
       "      <td>1.765281</td>\n",
       "      <td>1.105037</td>\n",
       "    </tr>\n",
       "    <tr>\n",
       "      <th>out_th</th>\n",
       "      <td>2.736443</td>\n",
       "      <td>2.932026</td>\n",
       "    </tr>\n",
       "  </tbody>\n",
       "</table>\n",
       "</div>"
      ],
      "text/plain": [
       "                 rmo    linear\n",
       "sigm_bias  -2.565055  0.000000\n",
       "sigm_scale  1.547136  1.000000\n",
       "out_scale   1.765281  1.105037\n",
       "out_th      2.736443  2.932026"
      ]
     },
     "execution_count": 19,
     "metadata": {},
     "output_type": "execute_result"
    }
   ],
   "source": [
    "df_hyperparams"
   ]
  },
  {
   "cell_type": "code",
   "execution_count": 30,
   "metadata": {},
   "outputs": [],
   "source": [
    "# save parameters to csv\n",
    "df_hyperparams.to_csv(os.path.join(exp_fold, \"opt_hyperparams.csv\"))"
   ]
  },
  {
   "cell_type": "code",
   "execution_count": 66,
   "metadata": {},
   "outputs": [
    {
     "name": "stdout",
     "output_type": "stream",
     "text": [
      "Run 20\r"
     ]
    }
   ],
   "source": [
    "loss_fn = nn.BCEWithLogitsLoss()\n",
    "\n",
    "N_RUNS = 50\n",
    "\n",
    "N_EPOCHS = 20\n",
    "\n",
    "projection_weights = {\"rmo\": [], \"linear\": []}\n",
    "\n",
    "for mode in [\"rmo\", \"linear\"]:\n",
    "\n",
    "    for i in range(N_RUNS):\n",
    "        print(f\"Run {i + 1}\", end=\"\\r\")\n",
    "        net = Net(\n",
    "            kern_half_size=2,\n",
    "            sigm_kern=0.3,\n",
    "            reg=0.1,\n",
    "            r_out_sigm_scale=1.0,\n",
    "            r_out_scale=1.0,\n",
    "            size_layers=[],\n",
    "            rmo_head=(mode == \"rmo\"),\n",
    "            use_dropout=0.5,\n",
    "            train_kernels=False,\n",
    "            train_weights=True,\n",
    "        )\n",
    "        net.to(device)\n",
    "\n",
    "        optimizer = torch.optim.Adam(net.parameters(), lr=0.001)\n",
    "\n",
    "        train_losses = []\n",
    "        val_losses = []\n",
    "\n",
    "        for epoch in range(N_EPOCHS):\n",
    "            net.train()\n",
    "            running_loss = 0.0\n",
    "            for i, data in enumerate(train_loader, 0):\n",
    "                inputs, labels = data\n",
    "                inputs, labels = inputs.to(device), labels.to(device)\n",
    "\n",
    "                optimizer.zero_grad()\n",
    "\n",
    "                outputs = net(inputs)\n",
    "\n",
    "                loss = loss_fn(outputs.flatten(), labels.float())\n",
    "                loss.backward()\n",
    "                optimizer.step()\n",
    "\n",
    "                running_loss += loss.item()\n",
    "\n",
    "            train_losses.append(running_loss / len(train_loader))\n",
    "\n",
    "            #print(f\"Epoch {epoch + 1}, loss: {running_loss / len(train_loader)}\")\n",
    "\n",
    "            net.eval()\n",
    "            val_loss = 0.0\n",
    "            with torch.no_grad():\n",
    "                for inputs, labels in val_loader:\n",
    "                    inputs, labels = inputs.to(device), labels.to(device)\n",
    "\n",
    "                    outputs = net(inputs)\n",
    "                    val_loss += loss_fn(outputs.flatten(), labels.float()).item()\n",
    "\n",
    "            val_losses.append(val_loss / len(val_loader))\n",
    "            #print(f\"Validation loss: {val_loss / len(val_loader)}\")\n",
    "\n",
    "        projection_weights[mode].append(net.fwd[1].weight.detach().cpu().numpy())\n",
    "\n",
    "    projection_weights[mode] = np.array(projection_weights[mode])\n",
    "    projection_weights[mode] = projection_weights[mode].reshape(-1, 2, SUBDIV_HEIGHT, SUBDIV_WIDTH)"
   ]
  },
  {
   "cell_type": "code",
   "execution_count": 114,
   "metadata": {},
   "outputs": [],
   "source": [
    "np.savez(os.path.join(exp_fold, \"projection_weights.npz\"), **projection_weights)"
   ]
  },
  {
   "cell_type": "code",
   "execution_count": 16,
   "metadata": {},
   "outputs": [],
   "source": [
    "projection_weights = dict(np.load(os.path.join(exp_fold, \"projection_weights.npz\")))\n",
    "\n",
    "assert projection_weights[\"rmo\"].shape == projection_weights[\"linear\"].shape\n",
    "\n",
    "N_RUNS = projection_weights[\"rmo\"].shape[0]\n",
    "SUBDIV_HEIGHT = projection_weights[\"rmo\"].shape[2]\n",
    "SUBDIV_WIDTH = projection_weights[\"rmo\"].shape[3]"
   ]
  },
  {
   "cell_type": "code",
   "execution_count": 18,
   "metadata": {},
   "outputs": [],
   "source": [
    "inertia = {}\n",
    "silhouette = {}\n",
    "\n",
    "k_max = 8\n",
    "\n",
    "for mode in [\"rmo\", \"linear\"]:\n",
    "\n",
    "    _projection_weights_kmeans = projection_weights[mode].reshape(-1, 2 * SUBDIV_HEIGHT * SUBDIV_WIDTH)\n",
    "\n",
    "    kmeans = KMeans(n_clusters=1, init='random')\n",
    "    kmeans.fit(_projection_weights_kmeans)\n",
    "\n",
    "    inertia[mode] = [kmeans.inertia_ / N_RUNS]\n",
    "    silhouette[mode] = [0]\n",
    "\n",
    "    for k in range(2, k_max):\n",
    "        kmeans = KMeans(n_clusters=k, init='random')\n",
    "        kmeans.fit(_projection_weights_kmeans)\n",
    "        inertia[mode].append(kmeans.inertia_ / N_RUNS)\n",
    "\n",
    "        cl_labels = kmeans.labels_\n",
    "        silhouette[mode].append(silhouette_score(_projection_weights_kmeans, cl_labels))\n",
    "    #kmeans = KMeans(n_clusters=2)\n",
    "    #kmeans.fit(_projection_weights_kmeans)\n",
    "\n",
    "    #patterns[mode] = kmeans.cluster_centers_.reshape(-1, SUBDIV_HEIGHT, SUBDIV_WIDTH)"
   ]
  },
  {
   "cell_type": "code",
   "execution_count": 19,
   "metadata": {},
   "outputs": [],
   "source": [
    "k_opt = {\"rmo\": 2, \"linear\": 1}\n",
    "\n",
    "patterns = {}\n",
    "\n",
    "for mode in [\"rmo\", \"linear\"]:\n",
    "\n",
    "    _projection_weights_kmeans = projection_weights[mode].reshape(-1, 2 * SUBDIV_HEIGHT * SUBDIV_WIDTH)\n",
    "    \n",
    "    kmeans = KMeans(n_clusters=k_opt[mode], init='random')\n",
    "    kmeans.fit(_projection_weights_kmeans)\n",
    "\n",
    "    patterns[mode] = kmeans.cluster_centers_.reshape(-1, 2, SUBDIV_HEIGHT, SUBDIV_WIDTH)"
   ]
  },
  {
   "cell_type": "code",
   "execution_count": 20,
   "metadata": {},
   "outputs": [],
   "source": [
    "reduced_weights_projection = {}\n",
    "\n",
    "_combined_weights = np.concatenate([projection_weights[\"rmo\"], projection_weights[\"linear\"]], axis=0)\n",
    "_combined_weights = _combined_weights.reshape(-1, 2 * SUBDIV_HEIGHT * SUBDIV_WIDTH)\n",
    "\n",
    "u,s,v = np.linalg.svd(_combined_weights, full_matrices=False)\n",
    "\n",
    "for mode in [\"rmo\", \"linear\"]:\n",
    "    _projection_weights = projection_weights[mode].reshape(-1, 2 * SUBDIV_HEIGHT * SUBDIV_WIDTH)\n",
    "    reduced_weights_projection[mode] = np.dot(_projection_weights, v[:1].T)"
   ]
  },
  {
   "cell_type": "code",
   "execution_count": 34,
   "metadata": {},
   "outputs": [],
   "source": [
    "TEXT_WIDTH = 6.18"
   ]
  },
  {
   "cell_type": "code",
   "execution_count": 33,
   "metadata": {},
   "outputs": [
    {
     "ename": "NameError",
     "evalue": "name 'TEXT_WIDTH' is not defined",
     "output_type": "error",
     "traceback": [
      "\u001b[0;31m---------------------------------------------------------------------------\u001b[0m",
      "\u001b[0;31mNameError\u001b[0m                                 Traceback (most recent call last)",
      "Cell \u001b[0;32mIn[33], line 2\u001b[0m\n\u001b[1;32m      1\u001b[0m plt\u001b[38;5;241m.\u001b[39mstyle\u001b[38;5;241m.\u001b[39muse(\u001b[38;5;124m\"\u001b[39m\u001b[38;5;124mplots.mplstyle\u001b[39m\u001b[38;5;124m\"\u001b[39m)\n\u001b[0;32m----> 2\u001b[0m fig \u001b[38;5;241m=\u001b[39m plt\u001b[38;5;241m.\u001b[39mfigure(figsize\u001b[38;5;241m=\u001b[39m(TEXT_WIDTH, TEXT_WIDTH))\n\u001b[1;32m      3\u001b[0m n_gs \u001b[38;5;241m=\u001b[39m \u001b[38;5;241m20\u001b[39m\n\u001b[1;32m      4\u001b[0m n_horiz_colorbar \u001b[38;5;241m=\u001b[39m \u001b[38;5;241m2\u001b[39m\n",
      "\u001b[0;31mNameError\u001b[0m: name 'TEXT_WIDTH' is not defined"
     ]
    }
   ],
   "source": [
    "\n",
    "plt.style.use(\"plots.mplstyle\")\n",
    "fig = plt.figure(figsize=(TEXT_WIDTH, TEXT_WIDTH))\n",
    "n_gs = 20\n",
    "n_horiz_colorbar = 2\n",
    "gs = fig.add_gridspec(3, n_gs + n_horiz_colorbar)\n",
    "\n",
    "colors = plt.rcParams[\"axes.prop_cycle\"].by_key()[\"color\"]\n",
    "\n",
    "ax_shift = 0.035\n",
    "\n",
    "ax_k_means = fig.add_subplot(gs[0, n_horiz_colorbar : n_gs // 2 + n_horiz_colorbar])\n",
    "\n",
    "ax_k_means.plot(range(1, k_max), inertia[\"rmo\"], label=\"RMO\", c=colors[0])\n",
    "ax_k_means.plot(range(1, k_max), inertia[\"linear\"], label=\"No RMO\", c=colors[0], linestyle=\"--\")\n",
    "\n",
    "ax_k_means.set_ylim(bottom=0)\n",
    "\n",
    "ax_k_means.set_xlabel(\"Number of clusters\")\n",
    "ax_k_means.set_ylabel(\"MSE to Cluster Center\")\n",
    "\n",
    "ax_k_means.legend()\n",
    "\n",
    "ax_k_means.set_title(\"A\", loc=\"left\")\n",
    "\n",
    "_pos = ax_k_means.get_position()\n",
    "ax_k_means.set_position([_pos.x0 + 0.025, _pos.y0, _pos.width - 0.05, _pos.height])\n",
    "\n",
    "ax_density = fig.add_subplot(gs[0, n_gs // 2 + n_horiz_colorbar :])\n",
    "\n",
    "sns.kdeplot(\n",
    "    reduced_weights_projection[\"rmo\"][:, 0],\n",
    "    ax=ax_density,\n",
    "    label=\"RMO\",\n",
    "    fill=True,\n",
    "    bw_adjust=0.05,\n",
    "    color=colors[0],\n",
    "    edgecolor=None,\n",
    "    linewidth=0,\n",
    "    alpha=0.8\n",
    ")\n",
    "kde = sns.kdeplot(\n",
    "    reduced_weights_projection[\"linear\"][:, 0],\n",
    "    ax=ax_density,\n",
    "    label=\"No RMO\",\n",
    "    fill=True,\n",
    "    bw_adjust=0.5,\n",
    "    color=colors[0],\n",
    "    edgecolor=None,\n",
    "    linewidth=0,\n",
    "    alpha=0.8\n",
    ")\n",
    "\n",
    "kde.collections[1].set_hatch(\"////\")\n",
    "\n",
    "ax_density.set_xlabel(\"Weight Projection on Princ. Comp.\")\n",
    "\n",
    "ax_density.legend()\n",
    "\n",
    "ax_density.set_title(\"B\", loc=\"left\")\n",
    "\n",
    "_pos = ax_density.get_position()\n",
    "ax_density.set_position([_pos.x0 + 0.025, _pos.y0, _pos.width - 0.05, _pos.height])\n",
    "\n",
    "ax_colorbar = fig.add_subplot(gs[1, 0])\n",
    "_p = ax_colorbar.get_position()\n",
    "ax_colorbar.set_position([_p.x0, _p.y0 - ax_shift, _p.width, _p.height])\n",
    "\n",
    "ax0 = fig.add_subplot(gs[1, n_horiz_colorbar : n_gs // 2 + n_horiz_colorbar])\n",
    "ax1 = fig.add_subplot(gs[1, n_gs // 2 + n_horiz_colorbar :])\n",
    "ax2 = fig.add_subplot(gs[2, n_horiz_colorbar : n_gs // 2 + n_horiz_colorbar])\n",
    "ax3 = fig.add_subplot(gs[2, n_gs // 2 + n_horiz_colorbar :])\n",
    "\n",
    "for _ax in [ax0, ax1, ax2, ax3]:\n",
    "    # no left and bottom edges\n",
    "    _ax.spines[\"left\"].set_visible(False)\n",
    "    _ax.spines[\"bottom\"].set_visible(False)\n",
    "\n",
    "cmap = \"viridis\"\n",
    "#cmap = \"hot\"\n",
    "\n",
    "vmin = -0.3\n",
    "vmax = 0.3\n",
    "\n",
    "\n",
    "left_pattern = patterns[\"rmo\"][1, 0]\n",
    "right_pattern = patterns[\"rmo\"][1, 1]\n",
    "\n",
    "_img = ax0.imshow(left_pattern, vmin=vmin, vmax=vmax, cmap=cmap)\n",
    "plt.colorbar(_img, cax=ax_colorbar, orientation=\"vertical\")\n",
    "ax0.set_title(\"RMO, Node 1\", loc=\"left\")  # , fontweight=\"bold\")\n",
    "_img = ax1.imshow(right_pattern, vmin=vmin, vmax=vmax, cmap=cmap)\n",
    "# plt.colorbar(_img, ax=ax[0,1], orientation=\"horizontal\")\n",
    "ax1.set_title(\"RMO, Node 2\", loc=\"left\")  # , fontweight=\"bold\")\n",
    "\n",
    "_p = ax0.get_position()\n",
    "ax0.set_position([_p.x0, _p.y0 - ax_shift, _p.width, _p.height])\n",
    "\n",
    "_p = ax1.get_position()\n",
    "ax1.set_position([_p.x0, _p.y0 - ax_shift, _p.width, _p.height])\n",
    "\n",
    "left_pattern = patterns[\"linear\"][0, 0]\n",
    "right_pattern = patterns[\"linear\"][0, 1]\n",
    "\n",
    "_img = ax2.imshow(left_pattern, vmin=vmin, vmax=vmax, cmap=cmap)\n",
    "# plt.colorbar(_img, ax=ax[1,0], orientation=\"horizontal\")\n",
    "ax2.set_title(\"No RMO, Node 1\", loc=\"left\")  # , fontweight=\"bold\")\n",
    "_img = ax3.imshow(right_pattern, vmin=vmin, vmax=vmax, cmap=cmap)\n",
    "# plt.colorbar(_img, ax=ax[1,1], orientation=\"horizontal\")\n",
    "ax3.set_title(\"No RMO, Node 2\", loc=\"left\")  # , fontweight=\"bold\")\n",
    "\n",
    "_p = ax2.get_position()\n",
    "ax2.set_position([_p.x0, _p.y0 - ax_shift * 0.75, _p.width, _p.height])\n",
    "\n",
    "_p = ax3.get_position()\n",
    "ax3.set_position([_p.x0, _p.y0 - ax_shift * 0.75, _p.width, _p.height])\n",
    "\n",
    "ax_colorbar.tick_params(left=False, bottom=False, labelbottom=False, labelleft=False)\n",
    "\n",
    "for _ax in [ax0, ax1, ax2, ax3]:\n",
    "    # no grid\n",
    "    _ax.grid(False)\n",
    "    _ax.axis(\"equal\")\n",
    "    _ax.vlines(SUBDIV_WIDTH // 2, 0, SUBDIV_HEIGHT - 1, linestyles=\"--\", color=\"k\")\n",
    "    # no ticks\n",
    "    _ax.tick_params(left=False, bottom=False, labelbottom=False, labelleft=False)\n",
    "\n",
    "# fig.tight_layout()\n",
    "\n",
    "fig.savefig(\"principal_component_learned_projection_weights.png\", dpi=300)\n",
    "fig.savefig(\"principal_component_learned_projection_weights.pdf\", dpi=300)\n",
    "plt.show()"
   ]
  },
  {
   "cell_type": "code",
   "execution_count": 32,
   "metadata": {},
   "outputs": [
    {
     "name": "stdout",
     "output_type": "stream",
     "text": [
      "31\n",
      "0\n"
     ]
    },
    {
     "name": "stderr",
     "output_type": "stream",
     "text": [
      "/tmp/ipykernel_1290344/3475359216.py:24: DeprecationWarning: Conversion of an array with ndim > 0 to a scalar is deprecated, and will error in future. Ensure you extract a single element from your array before performing this operation. (Deprecated NumPy 1.25.)\n",
      "  out[k] = _o\n"
     ]
    },
    {
     "data": {
      "image/png": "[encoded data removed]",
      "text/plain": [
       "<Figure size 1200x600 with 2 Axes>"
      ]
     },
     "metadata": {},
     "output_type": "display_data"
    }
   ],
   "source": [
    "search_for = 0\n",
    "\n",
    "while True:\n",
    "    sample = np.random.randint(0, X_val.shape[0])\n",
    "    if y_val[sample] == search_for:\n",
    "        break\n",
    "\n",
    "print(sample)\n",
    "print(y_val[sample].detach().cpu().numpy())\n",
    "\n",
    "steps = T_STEPS - 1\n",
    "\n",
    "net.eval()\n",
    "out = np.zeros((steps))\n",
    "_o = 0.0\n",
    "with torch.no_grad():\n",
    "    for k in range(steps):\n",
    "        img = torch.stack([X_val[sample,k,...], X_val[sample,k+1,...]], dim=0).float().to(device)\n",
    "        #for i in range(_evts.shape[0]):\n",
    "        #_o = net(img).detach().cpu().numpy()\n",
    "        #_o = 0.95 * _o + 0.05 * (1. + np.tanh(0.5 * net(img).detach().cpu().numpy())) / 2.\n",
    "        _o = 0.75 * _o + 0.25 * (net(img).detach().cpu().numpy() + net.out_th.detach().cpu().numpy())\n",
    "        #_o = (1. + np.tanh(0.5 * net(img).detach().cpu().numpy())) / 2.\n",
    "        out[k] = _o\n",
    "\n",
    "\n",
    "fig, ax = plt.subplots(1, 2, figsize=(12, 6))\n",
    "ax[0].imshow(X_val[sample,100,:,:].detach().numpy())\n",
    "\n",
    "t_ax = (np.arange(1-T_STEPS,0) * md_val[sample][\"dt\"] / 1000)[:steps]\n",
    "ax[1].plot(t_ax, out)\n",
    "\n",
    "ax[1].hlines(net.out_th.detach().cpu().numpy(), t_ax[0], t_ax[-1], color=\"r\", linestyle=\"--\")\n",
    "#ax[1].set_ylim(-.1,1.1)\n",
    "#ax[1].set_ylim(-10.,10.)\n",
    "\n",
    "plt.show()"
   ]
  },
  {
   "cell_type": "code",
   "execution_count": 94,
   "metadata": {},
   "outputs": [
    {
     "data": {
      "text/plain": [
       "0.1"
      ]
     },
     "execution_count": 94,
     "metadata": {},
     "output_type": "execute_result"
    }
   ],
   "source": [
    "net.eval()\n",
    "net.reg"
   ]
  },
  {
   "cell_type": "code",
   "execution_count": 140,
   "metadata": {},
   "outputs": [
    {
     "data": {
      "text/plain": [
       "array([-1.6511472], dtype=float32)"
      ]
     },
     "execution_count": 140,
     "metadata": {},
     "output_type": "execute_result"
    }
   ],
   "source": [
    "net.eval()\n",
    "net.sigm.bias.detach().cpu().numpy()"
   ]
  },
  {
   "cell_type": "code",
   "execution_count": 141,
   "metadata": {},
   "outputs": [
    {
     "data": {
      "text/plain": [
       "array([0.47053856], dtype=float32)"
      ]
     },
     "execution_count": 141,
     "metadata": {},
     "output_type": "execute_result"
    }
   ],
   "source": [
    "net.eval()\n",
    "net.sigm.scale.detach().cpu().numpy()"
   ]
  },
  {
   "cell_type": "code",
   "execution_count": 142,
   "metadata": {},
   "outputs": [
    {
     "data": {
      "text/plain": [
       "array([1.7137946], dtype=float32)"
      ]
     },
     "execution_count": 142,
     "metadata": {},
     "output_type": "execute_result"
    }
   ],
   "source": [
    "net.eval()\n",
    "net.out_scale.detach().cpu().numpy()"
   ]
  },
  {
   "cell_type": "code",
   "execution_count": 143,
   "metadata": {},
   "outputs": [
    {
     "data": {
      "text/plain": [
       "array([2.2176359], dtype=float32)"
      ]
     },
     "execution_count": 143,
     "metadata": {},
     "output_type": "execute_result"
    }
   ],
   "source": [
    "net.eval()\n",
    "net.out_th.detach().cpu().numpy()"
   ]
  }
 ],
 "metadata": {
  "kernelspec": {
   "display_name": "pytorch",
   "language": "python",
   "name": "python3"
  },
  "language_info": {
   "codemirror_mode": {
    "name": "ipython",
    "version": 3
   },
   "file_extension": ".py",
   "mimetype": "text/x-python",
   "name": "python",
   "nbconvert_exporter": "python",
   "pygments_lexer": "ipython3",
   "version": "3.11.9"
  }
 },
 "nbformat": 4,
 "nbformat_minor": 2
}
